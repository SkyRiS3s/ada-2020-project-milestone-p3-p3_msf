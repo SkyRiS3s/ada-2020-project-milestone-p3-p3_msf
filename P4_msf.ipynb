{
 "cells": [
  {
   "cell_type": "markdown",
   "metadata": {},
   "source": [
    "## The effect of the _\"Black Lives Matter\"_ movement on the arrestation of African American people in L.A.\n",
    "\n",
    "____"
   ]
  },
  {
   "cell_type": "markdown",
   "metadata": {},
   "source": [
    "### Context _(TODO)_"
   ]
  },
  {
   "cell_type": "markdown",
   "metadata": {},
   "source": [
    "...\n",
    "\n",
    "Black Lives Matter movement created in July, 2013\n",
    "___"
   ]
  },
  {
   "cell_type": "markdown",
   "metadata": {},
   "source": [
    "### The data _(TODO)_\n",
    "\n",
    "- Where it was acquired\n",
    "- Explanation of each column"
   ]
  },
  {
   "cell_type": "markdown",
   "metadata": {},
   "source": [
    "___"
   ]
  },
  {
   "cell_type": "code",
   "execution_count": 1,
   "metadata": {},
   "outputs": [],
   "source": [
    "import pandas as pd\n",
    "%matplotlib inline\n",
    "import matplotlib.pyplot as plt\n",
    "import seaborn as sns\n",
    "import datetime\n",
    "\n",
    "arrest_data = pd.read_csv('arrest-data-from-2010-to-present.csv', error_bad_lines = False)"
   ]
  },
  {
   "cell_type": "markdown",
   "metadata": {},
   "source": [
    "Now that we've loaded our data, let's have a sneak peek at our dataframe"
   ]
  },
  {
   "cell_type": "code",
   "execution_count": 2,
   "metadata": {},
   "outputs": [
    {
     "data": {
      "text/html": [
       "<div>\n",
       "<style scoped>\n",
       "    .dataframe tbody tr th:only-of-type {\n",
       "        vertical-align: middle;\n",
       "    }\n",
       "\n",
       "    .dataframe tbody tr th {\n",
       "        vertical-align: top;\n",
       "    }\n",
       "\n",
       "    .dataframe thead th {\n",
       "        text-align: right;\n",
       "    }\n",
       "</style>\n",
       "<table border=\"1\" class=\"dataframe\">\n",
       "  <thead>\n",
       "    <tr style=\"text-align: right;\">\n",
       "      <th></th>\n",
       "      <th>Report ID</th>\n",
       "      <th>Arrest Date</th>\n",
       "      <th>Time</th>\n",
       "      <th>Area ID</th>\n",
       "      <th>Area Name</th>\n",
       "      <th>Reporting District</th>\n",
       "      <th>Age</th>\n",
       "      <th>Sex Code</th>\n",
       "      <th>Descent Code</th>\n",
       "      <th>Charge Group Code</th>\n",
       "      <th>...</th>\n",
       "      <th>Charge Description</th>\n",
       "      <th>Address</th>\n",
       "      <th>Cross Street</th>\n",
       "      <th>Location</th>\n",
       "      <th>Zip Codes</th>\n",
       "      <th>Census Tracts</th>\n",
       "      <th>Precinct Boundaries</th>\n",
       "      <th>LA Specific Plans</th>\n",
       "      <th>Council Districts</th>\n",
       "      <th>Neighborhood Councils (Certified)</th>\n",
       "    </tr>\n",
       "  </thead>\n",
       "  <tbody>\n",
       "    <tr>\n",
       "      <td>0</td>\n",
       "      <td>5666847</td>\n",
       "      <td>2019-06-22T00:00:00.000</td>\n",
       "      <td>1630.0</td>\n",
       "      <td>14</td>\n",
       "      <td>Pacific</td>\n",
       "      <td>1457</td>\n",
       "      <td>44</td>\n",
       "      <td>M</td>\n",
       "      <td>W</td>\n",
       "      <td>24.0</td>\n",
       "      <td>...</td>\n",
       "      <td>VANDALISM</td>\n",
       "      <td>12300    CULVER                       BL</td>\n",
       "      <td>NaN</td>\n",
       "      <td>{'latitude': '33.992', 'human_address': '{\"add...</td>\n",
       "      <td>24031.0</td>\n",
       "      <td>918.0</td>\n",
       "      <td>1137.0</td>\n",
       "      <td>10.0</td>\n",
       "      <td>10.0</td>\n",
       "      <td>85.0</td>\n",
       "    </tr>\n",
       "    <tr>\n",
       "      <td>1</td>\n",
       "      <td>5666688</td>\n",
       "      <td>2019-06-22T00:00:00.000</td>\n",
       "      <td>1010.0</td>\n",
       "      <td>10</td>\n",
       "      <td>West Valley</td>\n",
       "      <td>1061</td>\n",
       "      <td>8</td>\n",
       "      <td>M</td>\n",
       "      <td>O</td>\n",
       "      <td>NaN</td>\n",
       "      <td>...</td>\n",
       "      <td>NaN</td>\n",
       "      <td>19000    VANOWEN                      ST</td>\n",
       "      <td>NaN</td>\n",
       "      <td>{'latitude': '34.1687', 'human_address': '{\"ad...</td>\n",
       "      <td>19339.0</td>\n",
       "      <td>321.0</td>\n",
       "      <td>1494.0</td>\n",
       "      <td>NaN</td>\n",
       "      <td>4.0</td>\n",
       "      <td>10.0</td>\n",
       "    </tr>\n",
       "    <tr>\n",
       "      <td>2</td>\n",
       "      <td>5666570</td>\n",
       "      <td>2019-06-22T00:00:00.000</td>\n",
       "      <td>400.0</td>\n",
       "      <td>15</td>\n",
       "      <td>N Hollywood</td>\n",
       "      <td>1543</td>\n",
       "      <td>31</td>\n",
       "      <td>F</td>\n",
       "      <td>O</td>\n",
       "      <td>22.0</td>\n",
       "      <td>...</td>\n",
       "      <td>DRUNK DRIVING ALCOHOL/DRUGS</td>\n",
       "      <td>MAGNOLIA                     AV</td>\n",
       "      <td>LAUREL CANYON                BL</td>\n",
       "      <td>{'latitude': '34.1649', 'human_address': '{\"ad...</td>\n",
       "      <td>8890.0</td>\n",
       "      <td>205.0</td>\n",
       "      <td>1332.0</td>\n",
       "      <td>17.0</td>\n",
       "      <td>5.0</td>\n",
       "      <td>39.0</td>\n",
       "    </tr>\n",
       "    <tr>\n",
       "      <td>3</td>\n",
       "      <td>5666529</td>\n",
       "      <td>2019-06-22T00:00:00.000</td>\n",
       "      <td>302.0</td>\n",
       "      <td>17</td>\n",
       "      <td>Devonshire</td>\n",
       "      <td>1738</td>\n",
       "      <td>23</td>\n",
       "      <td>F</td>\n",
       "      <td>W</td>\n",
       "      <td>22.0</td>\n",
       "      <td>...</td>\n",
       "      <td>DRUNK DRIVING ALCOHOL/DRUGS</td>\n",
       "      <td>HAYVENHURST                  ST</td>\n",
       "      <td>N  REGAN                        FY</td>\n",
       "      <td>{'latitude': '34.2692', 'human_address': '{\"ad...</td>\n",
       "      <td>19329.0</td>\n",
       "      <td>69.0</td>\n",
       "      <td>388.0</td>\n",
       "      <td>NaN</td>\n",
       "      <td>2.0</td>\n",
       "      <td>78.0</td>\n",
       "    </tr>\n",
       "    <tr>\n",
       "      <td>4</td>\n",
       "      <td>5666742</td>\n",
       "      <td>2019-06-22T00:00:00.000</td>\n",
       "      <td>1240.0</td>\n",
       "      <td>14</td>\n",
       "      <td>Pacific</td>\n",
       "      <td>1472</td>\n",
       "      <td>28</td>\n",
       "      <td>M</td>\n",
       "      <td>W</td>\n",
       "      <td>8.0</td>\n",
       "      <td>...</td>\n",
       "      <td>OBSTRUCT/RESIST EXECUTIVE OFFICER</td>\n",
       "      <td>6600    ESPLANADE                    ST</td>\n",
       "      <td>NaN</td>\n",
       "      <td>{'latitude': '33.9609', 'human_address': '{\"ad...</td>\n",
       "      <td>25075.0</td>\n",
       "      <td>937.0</td>\n",
       "      <td>241.0</td>\n",
       "      <td>10.0</td>\n",
       "      <td>10.0</td>\n",
       "      <td>16.0</td>\n",
       "    </tr>\n",
       "  </tbody>\n",
       "</table>\n",
       "<p>5 rows × 23 columns</p>\n",
       "</div>"
      ],
      "text/plain": [
       "   Report ID              Arrest Date    Time  Area ID    Area Name  \\\n",
       "0    5666847  2019-06-22T00:00:00.000  1630.0       14      Pacific   \n",
       "1    5666688  2019-06-22T00:00:00.000  1010.0       10  West Valley   \n",
       "2    5666570  2019-06-22T00:00:00.000   400.0       15  N Hollywood   \n",
       "3    5666529  2019-06-22T00:00:00.000   302.0       17   Devonshire   \n",
       "4    5666742  2019-06-22T00:00:00.000  1240.0       14      Pacific   \n",
       "\n",
       "   Reporting District  Age Sex Code Descent Code  Charge Group Code  ...  \\\n",
       "0                1457   44        M            W               24.0  ...   \n",
       "1                1061    8        M            O                NaN  ...   \n",
       "2                1543   31        F            O               22.0  ...   \n",
       "3                1738   23        F            W               22.0  ...   \n",
       "4                1472   28        M            W                8.0  ...   \n",
       "\n",
       "                  Charge Description  \\\n",
       "0                          VANDALISM   \n",
       "1                                NaN   \n",
       "2        DRUNK DRIVING ALCOHOL/DRUGS   \n",
       "3        DRUNK DRIVING ALCOHOL/DRUGS   \n",
       "4  OBSTRUCT/RESIST EXECUTIVE OFFICER   \n",
       "\n",
       "                                    Address  \\\n",
       "0  12300    CULVER                       BL   \n",
       "1  19000    VANOWEN                      ST   \n",
       "2           MAGNOLIA                     AV   \n",
       "3           HAYVENHURST                  ST   \n",
       "4   6600    ESPLANADE                    ST   \n",
       "\n",
       "                         Cross Street  \\\n",
       "0                                 NaN   \n",
       "1                                 NaN   \n",
       "2     LAUREL CANYON                BL   \n",
       "3  N  REGAN                        FY   \n",
       "4                                 NaN   \n",
       "\n",
       "                                            Location Zip Codes Census Tracts  \\\n",
       "0  {'latitude': '33.992', 'human_address': '{\"add...   24031.0         918.0   \n",
       "1  {'latitude': '34.1687', 'human_address': '{\"ad...   19339.0         321.0   \n",
       "2  {'latitude': '34.1649', 'human_address': '{\"ad...    8890.0         205.0   \n",
       "3  {'latitude': '34.2692', 'human_address': '{\"ad...   19329.0          69.0   \n",
       "4  {'latitude': '33.9609', 'human_address': '{\"ad...   25075.0         937.0   \n",
       "\n",
       "  Precinct Boundaries  LA Specific Plans  Council Districts  \\\n",
       "0              1137.0               10.0               10.0   \n",
       "1              1494.0                NaN                4.0   \n",
       "2              1332.0               17.0                5.0   \n",
       "3               388.0                NaN                2.0   \n",
       "4               241.0               10.0               10.0   \n",
       "\n",
       "   Neighborhood Councils (Certified)  \n",
       "0                               85.0  \n",
       "1                               10.0  \n",
       "2                               39.0  \n",
       "3                               78.0  \n",
       "4                               16.0  \n",
       "\n",
       "[5 rows x 23 columns]"
      ]
     },
     "execution_count": 2,
     "metadata": {},
     "output_type": "execute_result"
    }
   ],
   "source": [
    "arrest_data.head()"
   ]
  },
  {
   "cell_type": "markdown",
   "metadata": {},
   "source": [
    "For our analysis, it is not important to keep all columns. Only the ones regarding the race, the date of the arrest, the gender and the type of arrest (i.e. infraction or felony) are of interest to us."
   ]
  },
  {
   "cell_type": "code",
   "execution_count": 3,
   "metadata": {
    "scrolled": true
   },
   "outputs": [
    {
     "data": {
      "text/html": [
       "<div>\n",
       "<style scoped>\n",
       "    .dataframe tbody tr th:only-of-type {\n",
       "        vertical-align: middle;\n",
       "    }\n",
       "\n",
       "    .dataframe tbody tr th {\n",
       "        vertical-align: top;\n",
       "    }\n",
       "\n",
       "    .dataframe thead th {\n",
       "        text-align: right;\n",
       "    }\n",
       "</style>\n",
       "<table border=\"1\" class=\"dataframe\">\n",
       "  <thead>\n",
       "    <tr style=\"text-align: right;\">\n",
       "      <th></th>\n",
       "      <th>Date</th>\n",
       "      <th>Gender</th>\n",
       "      <th>Race</th>\n",
       "      <th>Arrest Type</th>\n",
       "    </tr>\n",
       "  </thead>\n",
       "  <tbody>\n",
       "    <tr>\n",
       "      <td>0</td>\n",
       "      <td>2019-06-22</td>\n",
       "      <td>M</td>\n",
       "      <td>W</td>\n",
       "      <td>M</td>\n",
       "    </tr>\n",
       "    <tr>\n",
       "      <td>1</td>\n",
       "      <td>2019-06-22</td>\n",
       "      <td>M</td>\n",
       "      <td>O</td>\n",
       "      <td>O</td>\n",
       "    </tr>\n",
       "    <tr>\n",
       "      <td>2</td>\n",
       "      <td>2019-06-22</td>\n",
       "      <td>F</td>\n",
       "      <td>O</td>\n",
       "      <td>M</td>\n",
       "    </tr>\n",
       "    <tr>\n",
       "      <td>3</td>\n",
       "      <td>2019-06-22</td>\n",
       "      <td>F</td>\n",
       "      <td>W</td>\n",
       "      <td>M</td>\n",
       "    </tr>\n",
       "    <tr>\n",
       "      <td>4</td>\n",
       "      <td>2019-06-22</td>\n",
       "      <td>M</td>\n",
       "      <td>W</td>\n",
       "      <td>F</td>\n",
       "    </tr>\n",
       "  </tbody>\n",
       "</table>\n",
       "</div>"
      ],
      "text/plain": [
       "        Date Gender Race Arrest Type\n",
       "0 2019-06-22      M    W           M\n",
       "1 2019-06-22      M    O           O\n",
       "2 2019-06-22      F    O           M\n",
       "3 2019-06-22      F    W           M\n",
       "4 2019-06-22      M    W           F"
      ]
     },
     "execution_count": 3,
     "metadata": {},
     "output_type": "execute_result"
    }
   ],
   "source": [
    "#Picking the necessary columns and renaming them\n",
    "arrest_data = arrest_data[['Arrest Date', 'Sex Code', 'Descent Code', 'Arrest Type Code']] \\\n",
    "                .rename(columns = {'Arrest Date' : 'Date', 'Sex Code': 'Gender', 'Descent Code': 'Race', \n",
    "                                   'Arrest Type Code': 'Arrest Type'})\n",
    "\n",
    "\n",
    "#Date --> DateTime\n",
    "arrest_data['Date'] = pd.to_datetime(arrest_data['Date'], errors='coerce')\n",
    "\n",
    "#Verifying that no date is 'NaT' (Not a Time)\n",
    "assert(arrest_data.Date.isnull().sum() == 0)\n",
    "\n",
    "#Sanity checks\n",
    "assert(datetime.datetime(2010,1,1) == min(arrest_data.Date))\n",
    "assert(datetime.datetime(2019,6,22) == max(arrest_data.Date))\n",
    "\n",
    "arrest_data.head()"
   ]
  },
  {
   "cell_type": "markdown",
   "metadata": {},
   "source": [
    "___"
   ]
  },
  {
   "cell_type": "markdown",
   "metadata": {},
   "source": [
    "### Question 1\n",
    "\n",
    "_Since the creation of the Black Lives Matter movement, was there a change in the trend of the overall arrests of African American people in L.A.?_"
   ]
  },
  {
   "cell_type": "markdown",
   "metadata": {},
   "source": [
    "Let's start by looking at the number of arrests per race, just to get an idea of what that looks like"
   ]
  },
  {
   "cell_type": "code",
   "execution_count": 4,
   "metadata": {},
   "outputs": [
    {
     "data": {
      "image/png": "[encoded data removed]",
      "text/plain": [
       "<Figure size 576x648 with 1 Axes>"
      ]
     },
     "metadata": {
      "needs_background": "light"
     },
     "output_type": "display_data"
    },
    {
     "name": "stdout",
     "output_type": "stream",
     "text": [
      "Number of Black people arrested (2010-2019) :  367152\n",
      "Percentage: 28.77%\n",
      "\n",
      "Number of Hispanic people arrested (2010-2019) : 594321\n",
      "Percentage: 46.571%\n",
      "\n",
      "Number of White people arrested (2010-2019) : 240451\n",
      "Percentage: 18.842%\n",
      "\n",
      "Number of Others people arrested (2010-2019) : 65426\n",
      "Percentage: 5.127%\n",
      "\n"
     ]
    }
   ],
   "source": [
    "race_data = arrest_data[['Date', 'Race']]\n",
    "\n",
    "fig = plt.figure(figsize=(8,9))\n",
    "ax = plot = sns.countplot(x='Race', data= race_data, palette = 'bright')\n",
    "plt.title(\"Number of Arrests in L.A. w.r.t Race\", pad = 20)\n",
    "plt.ylabel('Number of Arrests', labelpad = 20)\n",
    "plt.xlabel('Race', labelpad = 20)\n",
    "plt.show()\n",
    "\n",
    "#Getting count for each race that has a high number of arrests (> 5%)\n",
    "counts = race_data.Race.value_counts()\n",
    "black_counts = counts['B']\n",
    "hispanic_counts = counts['H']\n",
    "white_counts = counts['W']\n",
    "others_counts = counts['O']\n",
    "\n",
    "print('Number of Black people arrested (2010-2019) :  ' + str(black_counts))\n",
    "print('Percentage: ' + str(round(black_counts/len(arrest_data)*100,3)) + \"%\\n\")\n",
    "print('Number of Hispanic people arrested (2010-2019) : ' + str(hispanic_counts))\n",
    "print('Percentage: ' + str(round(hispanic_counts/len(arrest_data)*100,3)) + \"%\\n\")\n",
    "print('Number of White people arrested (2010-2019) : ' + str(white_counts))\n",
    "print('Percentage: ' + str(round(white_counts/len(arrest_data)*100,3)) + \"%\\n\")\n",
    "print('Number of Others people arrested (2010-2019) : ' + str(others_counts))\n",
    "print('Percentage: ' + str(round(others_counts/len(arrest_data)*100,3)) + \"%\\n\")\n"
   ]
  },
  {
   "cell_type": "markdown",
   "metadata": {},
   "source": [
    "We can already see that there is quite a decrepency in the number of arrests w.r.t the gender."
   ]
  },
  {
   "cell_type": "markdown",
   "metadata": {},
   "source": [
    "Now, let's look at how the creation of the Black Lives Matter movement affected the number of arrest. We will by counting the number of African American people arrested before and after July, 2013 (from January 2010 to December 2016, i.e. 3.5 years before and after the creation of the black lives matter)"
   ]
  },
  {
   "cell_type": "code",
   "execution_count": 5,
   "metadata": {},
   "outputs": [
    {
     "data": {
      "image/png": "[encoded data removed]",
      "text/plain": [
       "<Figure size 432x432 with 1 Axes>"
      ]
     },
     "metadata": {
      "needs_background": "light"
     },
     "output_type": "display_data"
    }
   ],
   "source": [
    "black_data = race_data[race_data['Race'] == 'B']\n",
    "movement_creation_date = datetime.datetime(2013, 8, 1)\n",
    "black_before_movement = black_data[black_data['Date'] < movement_creation_date].assign(Period = \"Before\")\n",
    "black_after_movement = black_data[(black_data['Date'] >= movement_creation_date) & \n",
    "                                  (black_data['Date'] <= datetime.datetime(2016,12,31))].assign(Period = \"After\")\n",
    "\n",
    "fig = plt.figure(figsize=(6,6))\n",
    "ax = plot = sns.countplot(x='Period', data= pd.concat([black_before_movement, black_after_movement]), palette = 'bright')\n",
    "plt.title(\"Number of Arrests of African American people before and after the creation of Black Lives Matter\", pad = 20)\n",
    "plt.ylabel('Number of Arrests', labelpad = 20)\n",
    "plt.xlabel('Period', labelpad = 20)\n",
    "plt.show()\n"
   ]
  },
  {
   "cell_type": "markdown",
   "metadata": {},
   "source": [
    "At first glance, it would seem that the creation of the Black Lives Matter movment had a clear impact on the number of arrests of people of African American descent.  "
   ]
  },
  {
   "cell_type": "code",
   "execution_count": 6,
   "metadata": {},
   "outputs": [
    {
     "name": "stdout",
     "output_type": "stream",
     "text": [
      "Number of Arrests Before : 164679\n",
      "Number of Arrests After  : 127028\n",
      "Decrease percentage : 22.86%\n"
     ]
    }
   ],
   "source": [
    "print('Number of Arrests Before : ' + str(len(black_before_movement)))\n",
    "print('Number of Arrests After  : ' + str(len(black_after_movement)))\n",
    "print('Decrease percentage : ' + str(round((len(black_before_movement)- len(black_after_movement))/len(black_before_movement)*100,2)) + \"%\")"
   ]
  },
  {
   "cell_type": "markdown",
   "metadata": {},
   "source": [
    "Analysis of the arrests trends per month --> segmented regression"
   ]
  },
  {
   "cell_type": "code",
   "execution_count": 7,
   "metadata": {},
   "outputs": [],
   "source": [
    "black_trends_before = black_before_movement.set_index('Date') \\\n",
    "                        .replace('B', 1) \\\n",
    "                        .rename(columns = {'Race' : 'Arrestations'}) \\\n",
    "                        .groupby(pd.Grouper(freq = 'M')).sum() \\\n",
    "                        .assign(Period = 'Before')\n",
    "\n",
    "black_trends_after = black_after_movement.set_index('Date') \\\n",
    "                        .replace('B', 1) \\\n",
    "                        .rename(columns = {'Race' : 'Arrestations'}) \\\n",
    "                        .groupby(pd.Grouper(freq = 'M')).sum() \\\n",
    "                        .assign(Period = 'After')\n",
    "\n",
    "black_trends = pd.concat([black_trends_before, black_trends_after]).reset_index(drop = True)\n",
    "black_trends['Time'] = black_trends.index + 1"
   ]
  },
  {
   "cell_type": "code",
   "execution_count": 8,
   "metadata": {
    "scrolled": false
   },
   "outputs": [
    {
     "data": {
      "image/png": "[encoded data removed]",
      "text/plain": [
       "<Figure size 932.875x864 with 1 Axes>"
      ]
     },
     "metadata": {
      "needs_background": "light"
     },
     "output_type": "display_data"
    }
   ],
   "source": [
    "from matplotlib.lines import Line2D\n",
    "#Showing the results of the segmented linear regression\n",
    "ax = sns.lmplot(x=\"Time\", y=\"Arrestations\", hue = \"Period\", data=black_trends, ci=95, palette=\"bright\", height = 12)\n",
    "ax._legend.remove()\n",
    "plt.subplots_adjust(top=0.9)\n",
    "ax.fig.suptitle('Pre and Post July 2013 Arrestations Trends of African American people', fontsize = 14)\n",
    "ax.set_axis_labels(\"Time (Months)\", \"Total Arrestations\", fontsize = 13, labelpad = 10)\n",
    "plt.axvline(x = 43.5, color = 'red', alpha = 2, linestyle = '--')\n",
    "plt.xlim(0, 86)\n",
    "plt.ylim(2200, None)\n",
    "ax.set(xticks = range(0, 92, 4))\n",
    "#Constructing the legend\n",
    "legend_elements = [Line2D([0], [0], marker='o', color='w', label='Total Arrestations by month (Before)', markerfacecolor='blue', markersize=7.5),\n",
    "                   Line2D([0], [0], marker='o', color='w', label='Total Arrestations by month (After)', markerfacecolor='darkorange', markersize=7.5),\n",
    "                   Line2D([0], [0], color='blue', label = \"Trend Pre-June 2013\"), \n",
    "                   Line2D([0], [0], color='darkorange', label = \"Trend Post-June 2013\"), \n",
    "                   Line2D([0], [0], color='red', linestyle = '--', alpha = 2 , label = \"Mid July 2013 - Creation of Black Lives Matter\")]\n",
    "\n",
    "plt.legend(handles=legend_elements)\n",
    "\n",
    "\n",
    "plt.show()"
   ]
  },
  {
   "cell_type": "markdown",
   "metadata": {},
   "source": [
    "Numerical Segmented regression"
   ]
  },
  {
   "cell_type": "code",
   "execution_count": 9,
   "metadata": {},
   "outputs": [
    {
     "data": {
      "text/html": [
       "<div>\n",
       "<style scoped>\n",
       "    .dataframe tbody tr th:only-of-type {\n",
       "        vertical-align: middle;\n",
       "    }\n",
       "\n",
       "    .dataframe tbody tr th {\n",
       "        vertical-align: top;\n",
       "    }\n",
       "\n",
       "    .dataframe thead th {\n",
       "        text-align: right;\n",
       "    }\n",
       "</style>\n",
       "<table border=\"1\" class=\"dataframe\">\n",
       "  <thead>\n",
       "    <tr style=\"text-align: right;\">\n",
       "      <th></th>\n",
       "      <th>x1</th>\n",
       "      <th>x2</th>\n",
       "      <th>x3</th>\n",
       "    </tr>\n",
       "  </thead>\n",
       "  <tbody>\n",
       "    <tr>\n",
       "      <td>0</td>\n",
       "      <td>1</td>\n",
       "      <td>0</td>\n",
       "      <td>0</td>\n",
       "    </tr>\n",
       "    <tr>\n",
       "      <td>1</td>\n",
       "      <td>2</td>\n",
       "      <td>0</td>\n",
       "      <td>0</td>\n",
       "    </tr>\n",
       "    <tr>\n",
       "      <td>2</td>\n",
       "      <td>3</td>\n",
       "      <td>0</td>\n",
       "      <td>0</td>\n",
       "    </tr>\n",
       "    <tr>\n",
       "      <td>3</td>\n",
       "      <td>4</td>\n",
       "      <td>0</td>\n",
       "      <td>0</td>\n",
       "    </tr>\n",
       "    <tr>\n",
       "      <td>4</td>\n",
       "      <td>5</td>\n",
       "      <td>0</td>\n",
       "      <td>0</td>\n",
       "    </tr>\n",
       "    <tr>\n",
       "      <td>...</td>\n",
       "      <td>...</td>\n",
       "      <td>...</td>\n",
       "      <td>...</td>\n",
       "    </tr>\n",
       "    <tr>\n",
       "      <td>79</td>\n",
       "      <td>80</td>\n",
       "      <td>1</td>\n",
       "      <td>37</td>\n",
       "    </tr>\n",
       "    <tr>\n",
       "      <td>80</td>\n",
       "      <td>81</td>\n",
       "      <td>1</td>\n",
       "      <td>38</td>\n",
       "    </tr>\n",
       "    <tr>\n",
       "      <td>81</td>\n",
       "      <td>82</td>\n",
       "      <td>1</td>\n",
       "      <td>39</td>\n",
       "    </tr>\n",
       "    <tr>\n",
       "      <td>82</td>\n",
       "      <td>83</td>\n",
       "      <td>1</td>\n",
       "      <td>40</td>\n",
       "    </tr>\n",
       "    <tr>\n",
       "      <td>83</td>\n",
       "      <td>84</td>\n",
       "      <td>1</td>\n",
       "      <td>41</td>\n",
       "    </tr>\n",
       "  </tbody>\n",
       "</table>\n",
       "<p>84 rows × 3 columns</p>\n",
       "</div>"
      ],
      "text/plain": [
       "    x1  x2  x3\n",
       "0    1   0   0\n",
       "1    2   0   0\n",
       "2    3   0   0\n",
       "3    4   0   0\n",
       "4    5   0   0\n",
       "..  ..  ..  ..\n",
       "79  80   1  37\n",
       "80  81   1  38\n",
       "81  82   1  39\n",
       "82  83   1  40\n",
       "83  84   1  41\n",
       "\n",
       "[84 rows x 3 columns]"
      ]
     },
     "execution_count": 9,
     "metadata": {},
     "output_type": "execute_result"
    }
   ],
   "source": [
    "import statsmodels.api as sm\n",
    "black_trends['x2'] = black_trends['Period'].apply(lambda x : 0 if x == 'Before' else 1)\n",
    "black_trends['x3'] = black_trends['Time'].apply(lambda x : x-43 if x>43 else 0)\n",
    "y_df = black_trends['Arrestations']\n",
    "black_trends = black_trends.drop(columns = ['Arrestations','Period']).rename(columns = {'Time':'x1'})\n",
    "black_trends"
   ]
  },
  {
   "cell_type": "code",
   "execution_count": 10,
   "metadata": {},
   "outputs": [
    {
     "data": {
      "text/html": [
       "<table class=\"simpletable\">\n",
       "<caption>OLS Regression Results</caption>\n",
       "<tr>\n",
       "  <th>Dep. Variable:</th>      <td>Arrestations</td>   <th>  R-squared:         </th> <td>   0.660</td>\n",
       "</tr>\n",
       "<tr>\n",
       "  <th>Model:</th>                   <td>OLS</td>       <th>  Adj. R-squared:    </th> <td>   0.648</td>\n",
       "</tr>\n",
       "<tr>\n",
       "  <th>Method:</th>             <td>Least Squares</td>  <th>  F-statistic:       </th> <td>   51.87</td>\n",
       "</tr>\n",
       "<tr>\n",
       "  <th>Date:</th>             <td>Fri, 11 Dec 2020</td> <th>  Prob (F-statistic):</th> <td>1.01e-18</td>\n",
       "</tr>\n",
       "<tr>\n",
       "  <th>Time:</th>                 <td>06:48:01</td>     <th>  Log-Likelihood:    </th> <td> -594.65</td>\n",
       "</tr>\n",
       "<tr>\n",
       "  <th>No. Observations:</th>      <td>    84</td>      <th>  AIC:               </th> <td>   1197.</td>\n",
       "</tr>\n",
       "<tr>\n",
       "  <th>Df Residuals:</th>          <td>    80</td>      <th>  BIC:               </th> <td>   1207.</td>\n",
       "</tr>\n",
       "<tr>\n",
       "  <th>Df Model:</th>              <td>     3</td>      <th>                     </th>     <td> </td>   \n",
       "</tr>\n",
       "<tr>\n",
       "  <th>Covariance Type:</th>      <td>nonrobust</td>    <th>                     </th>     <td> </td>   \n",
       "</tr>\n",
       "</table>\n",
       "<table class=\"simpletable\">\n",
       "<tr>\n",
       "    <td></td>       <th>coef</th>     <th>std err</th>      <th>t</th>      <th>P>|t|</th>  <th>[0.025</th>    <th>0.975]</th>  \n",
       "</tr>\n",
       "<tr>\n",
       "  <th>const</th> <td> 3666.8372</td> <td>   91.349</td> <td>   40.141</td> <td> 0.000</td> <td> 3485.048</td> <td> 3848.627</td>\n",
       "</tr>\n",
       "<tr>\n",
       "  <th>x1</th>    <td>    7.4049</td> <td>    3.617</td> <td>    2.048</td> <td> 0.044</td> <td>    0.208</td> <td>   14.602</td>\n",
       "</tr>\n",
       "<tr>\n",
       "  <th>x2</th>    <td> -506.5804</td> <td>  128.642</td> <td>   -3.938</td> <td> 0.000</td> <td> -762.587</td> <td> -250.574</td>\n",
       "</tr>\n",
       "<tr>\n",
       "  <th>x3</th>    <td>  -25.5202</td> <td>    5.307</td> <td>   -4.808</td> <td> 0.000</td> <td>  -36.082</td> <td>  -14.958</td>\n",
       "</tr>\n",
       "</table>\n",
       "<table class=\"simpletable\">\n",
       "<tr>\n",
       "  <th>Omnibus:</th>       <td> 2.788</td> <th>  Durbin-Watson:     </th> <td>   1.486</td>\n",
       "</tr>\n",
       "<tr>\n",
       "  <th>Prob(Omnibus):</th> <td> 0.248</td> <th>  Jarque-Bera (JB):  </th> <td>   2.733</td>\n",
       "</tr>\n",
       "<tr>\n",
       "  <th>Skew:</th>          <td>-0.427</td> <th>  Prob(JB):          </th> <td>   0.255</td>\n",
       "</tr>\n",
       "<tr>\n",
       "  <th>Kurtosis:</th>      <td> 2.772</td> <th>  Cond. No.          </th> <td>    215.</td>\n",
       "</tr>\n",
       "</table><br/><br/>Warnings:<br/>[1] Standard Errors assume that the covariance matrix of the errors is correctly specified."
      ],
      "text/plain": [
       "<class 'statsmodels.iolib.summary.Summary'>\n",
       "\"\"\"\n",
       "                            OLS Regression Results                            \n",
       "==============================================================================\n",
       "Dep. Variable:           Arrestations   R-squared:                       0.660\n",
       "Model:                            OLS   Adj. R-squared:                  0.648\n",
       "Method:                 Least Squares   F-statistic:                     51.87\n",
       "Date:                Fri, 11 Dec 2020   Prob (F-statistic):           1.01e-18\n",
       "Time:                        06:48:01   Log-Likelihood:                -594.65\n",
       "No. Observations:                  84   AIC:                             1197.\n",
       "Df Residuals:                      80   BIC:                             1207.\n",
       "Df Model:                           3                                         \n",
       "Covariance Type:            nonrobust                                         \n",
       "==============================================================================\n",
       "                 coef    std err          t      P>|t|      [0.025      0.975]\n",
       "------------------------------------------------------------------------------\n",
       "const       3666.8372     91.349     40.141      0.000    3485.048    3848.627\n",
       "x1             7.4049      3.617      2.048      0.044       0.208      14.602\n",
       "x2          -506.5804    128.642     -3.938      0.000    -762.587    -250.574\n",
       "x3           -25.5202      5.307     -4.808      0.000     -36.082     -14.958\n",
       "==============================================================================\n",
       "Omnibus:                        2.788   Durbin-Watson:                   1.486\n",
       "Prob(Omnibus):                  0.248   Jarque-Bera (JB):                2.733\n",
       "Skew:                          -0.427   Prob(JB):                        0.255\n",
       "Kurtosis:                       2.772   Cond. No.                         215.\n",
       "==============================================================================\n",
       "\n",
       "Warnings:\n",
       "[1] Standard Errors assume that the covariance matrix of the errors is correctly specified.\n",
       "\"\"\""
      ]
     },
     "execution_count": 10,
     "metadata": {},
     "output_type": "execute_result"
    }
   ],
   "source": [
    "X_df = black_trends\n",
    "X_df = sm.add_constant(X_df.values)\n",
    "model = sm.OLS(y_df, X_df).fit()\n",
    "model.summary()"
   ]
  },
  {
   "cell_type": "markdown",
   "metadata": {},
   "source": [
    "---"
   ]
  },
  {
   "cell_type": "markdown",
   "metadata": {},
   "source": [
    "### Question 3\n",
    "\n",
    "Is there a difference in the number of arrestations between males and females African Americans ? What about after the Black Lives Matter movement ?"
   ]
  },
  {
   "cell_type": "code",
   "execution_count": 11,
   "metadata": {},
   "outputs": [
    {
     "data": {
      "image/png": "[encoded data removed]",
      "text/plain": [
       "<Figure size 432x432 with 1 Axes>"
      ]
     },
     "metadata": {
      "needs_background": "light"
     },
     "output_type": "display_data"
    }
   ],
   "source": [
    "gender_black_data = arrest_data[arrest_data['Race'] == 'B'][['Date', 'Gender']].reset_index(drop = True)\n",
    "\n",
    "fig = plt.figure(figsize=(6,6))\n",
    "ax = plot = sns.countplot(x='Gender', data=gender_black_data, palette = 'bright')\n",
    "plt.title(\"Number of Arrests of African American people w.r.t gender (Jan 2010 - Jun 2019)\", pad = 20)\n",
    "plt.ylabel('Number of Arrests', labelpad = 20)\n",
    "plt.xlabel('Gender', labelpad = 20)\n",
    "plt.show()"
   ]
  },
  {
   "cell_type": "code",
   "execution_count": 12,
   "metadata": {},
   "outputs": [
    {
     "data": {
      "image/png": "[encoded data removed]",
      "text/plain": [
       "<Figure size 432x432 with 1 Axes>"
      ]
     },
     "metadata": {
      "needs_background": "light"
     },
     "output_type": "display_data"
    }
   ],
   "source": [
    "gender_black_data['Period'] = gender_black_data['Date'].apply(lambda x: 'Before' if x <= movement_creation_date else 'After')\n",
    "gender_black_data = gender_black_data[gender_black_data['Date'] <= datetime.datetime(2016,12,31)].reset_index(drop = True).sort_values(by='Date')\n",
    "\n",
    "fig = plt.figure(figsize=(6,6))\n",
    "ax = plot = sns.countplot(x='Gender', hue = 'Period',data=gender_black_data, palette = 'muted')\n",
    "plt.title(\"Number of Arrests of African American people w.r.t gender (Jan 2010 - Jun 2019)\", pad = 20)\n",
    "plt.ylabel('Number of Arrests', labelpad = 20)\n",
    "plt.xlabel('Gender', labelpad = 20)\n",
    "plt.show()"
   ]
  },
  {
   "cell_type": "markdown",
   "metadata": {},
   "source": [
    "Segmented regression analysis"
   ]
  },
  {
   "cell_type": "code",
   "execution_count": 13,
   "metadata": {},
   "outputs": [],
   "source": [
    "female_black_data = gender_black_data[gender_black_data['Gender'] == 'F'] \\\n",
    "                    .set_index('Date') \\\n",
    "                    .replace('F', 1) \\\n",
    "                    .rename(columns = {'Gender' : 'Arrestations'}) \\\n",
    "                    .groupby(pd.Grouper(freq = 'M')).sum() \\\n",
    "                    .reset_index() \\\n",
    "                    .sort_values(by = 'Date')\n",
    "\n",
    "female_black_data_before = female_black_data[female_black_data['Date'] < datetime.datetime(2013, 8, 1)] \\\n",
    "                            .assign(Period = 'Before Female') \\\n",
    "                            .assign(Time = lambda x : x.index + 1)\n",
    "\n",
    "female_black_data_after = female_black_data[female_black_data['Date'] >= datetime.datetime(2013, 8, 1)] \\\n",
    "                            .assign(Period = 'After Female') \\\n",
    "                            .assign(Time = lambda x : x.index + 1)\n",
    "\n",
    "\n",
    "male_black_data = gender_black_data[gender_black_data['Gender'] == 'M'] \\\n",
    "                    .set_index('Date') \\\n",
    "                    .replace('M', 1) \\\n",
    "                    .rename(columns = {'Gender' : 'Arrestations'}) \\\n",
    "                    .groupby(pd.Grouper(freq = 'M')).sum() \\\n",
    "                    .reset_index() \\\n",
    "                    .sort_values(by = 'Date')\n",
    "\n",
    "male_black_data_before = male_black_data[male_black_data['Date'] < datetime.datetime(2013, 8, 1)] \\\n",
    "                            .assign(Period = 'Before Male') \\\n",
    "                            .assign(Time = lambda x : x.index + 1)\n",
    "\n",
    "male_black_data_after = male_black_data[male_black_data['Date'] >= datetime.datetime(2013, 8, 1)] \\\n",
    "                            .assign(Period = 'After Male') \\\n",
    "                            .assign(Time = lambda x : x.index + 1)"
   ]
  },
  {
   "cell_type": "code",
   "execution_count": 14,
   "metadata": {},
   "outputs": [
    {
     "data": {
      "image/png": "[encoded data removed]",
      "text/plain": [
       "<Figure size 972.625x864 with 1 Axes>"
      ]
     },
     "metadata": {
      "needs_background": "light"
     },
     "output_type": "display_data"
    }
   ],
   "source": [
    "ax = sns.lmplot(x=\"Time\", y=\"Arrestations\", hue = \"Period\", data=pd.concat([male_black_data_before, female_black_data_before, male_black_data_after, female_black_data_after]),\n",
    "                ci=95, palette=\"bright\", height = 12)\n",
    "\n",
    "plt.subplots_adjust(top=0.9)\n",
    "ax._legend.remove()\n",
    "ax.fig.suptitle('Pre and Post July 2013 Arrestations Trends of African American people', fontsize = 14)\n",
    "ax.set_axis_labels(\"Time (Months)\", \"Total Arrestations\", fontsize = 13, labelpad = 10)\n",
    "plt.axvline(x = 43.5, color = 'red', alpha = 2, linestyle = '--')\n",
    "plt.xlim(0, 86)\n",
    "plt.ylim(500, None)\n",
    "ax.set(xticks = range(0, 92, 4))\n",
    "\n",
    "plt.legend()\n",
    "\n",
    "\n",
    "plt.show()"
   ]
  },
  {
   "cell_type": "markdown",
   "metadata": {},
   "source": [
    "Male Segmented regression"
   ]
  },
  {
   "cell_type": "code",
   "execution_count": 15,
   "metadata": {},
   "outputs": [],
   "source": [
    "male_trends = pd.concat([male_black_data_before, male_black_data_after])\n",
    "male_trends['x2'] = male_trends.Period.apply(lambda x : 0 if x=='Before Male' else 1)\n",
    "male_trends['x3'] = male_trends.Time.apply(lambda x: x-43 if x>43 else 0)\n",
    "y_df = male_trends['Arrestations']\n",
    "male_trends = male_trends.drop(columns = ['Date', 'Period', 'Arrestations']).rename(columns = {'Time':'x1'})"
   ]
  },
  {
   "cell_type": "code",
   "execution_count": 16,
   "metadata": {},
   "outputs": [
    {
     "data": {
      "text/html": [
       "<table class=\"simpletable\">\n",
       "<caption>OLS Regression Results</caption>\n",
       "<tr>\n",
       "  <th>Dep. Variable:</th>      <td>Arrestations</td>   <th>  R-squared:         </th> <td>   0.673</td>\n",
       "</tr>\n",
       "<tr>\n",
       "  <th>Model:</th>                   <td>OLS</td>       <th>  Adj. R-squared:    </th> <td>   0.660</td>\n",
       "</tr>\n",
       "<tr>\n",
       "  <th>Method:</th>             <td>Least Squares</td>  <th>  F-statistic:       </th> <td>   54.80</td>\n",
       "</tr>\n",
       "<tr>\n",
       "  <th>Date:</th>             <td>Fri, 11 Dec 2020</td> <th>  Prob (F-statistic):</th> <td>2.37e-19</td>\n",
       "</tr>\n",
       "<tr>\n",
       "  <th>Time:</th>                 <td>06:48:04</td>     <th>  Log-Likelihood:    </th> <td> -576.49</td>\n",
       "</tr>\n",
       "<tr>\n",
       "  <th>No. Observations:</th>      <td>    84</td>      <th>  AIC:               </th> <td>   1161.</td>\n",
       "</tr>\n",
       "<tr>\n",
       "  <th>Df Residuals:</th>          <td>    80</td>      <th>  BIC:               </th> <td>   1171.</td>\n",
       "</tr>\n",
       "<tr>\n",
       "  <th>Df Model:</th>              <td>     3</td>      <th>                     </th>     <td> </td>   \n",
       "</tr>\n",
       "<tr>\n",
       "  <th>Covariance Type:</th>      <td>nonrobust</td>    <th>                     </th>     <td> </td>   \n",
       "</tr>\n",
       "</table>\n",
       "<table class=\"simpletable\">\n",
       "<tr>\n",
       "    <td></td>       <th>coef</th>     <th>std err</th>      <th>t</th>      <th>P>|t|</th>  <th>[0.025</th>    <th>0.975]</th>  \n",
       "</tr>\n",
       "<tr>\n",
       "  <th>const</th> <td> 2829.7342</td> <td>   73.587</td> <td>   38.454</td> <td> 0.000</td> <td> 2683.291</td> <td> 2976.178</td>\n",
       "</tr>\n",
       "<tr>\n",
       "  <th>x1</th>    <td>    6.7045</td> <td>    2.913</td> <td>    2.301</td> <td> 0.024</td> <td>    0.907</td> <td>   12.502</td>\n",
       "</tr>\n",
       "<tr>\n",
       "  <th>x2</th>    <td> -461.9618</td> <td>  103.630</td> <td>   -4.458</td> <td> 0.000</td> <td> -668.192</td> <td> -255.731</td>\n",
       "</tr>\n",
       "<tr>\n",
       "  <th>x3</th>    <td>  -20.5252</td> <td>    4.275</td> <td>   -4.801</td> <td> 0.000</td> <td>  -29.034</td> <td>  -12.017</td>\n",
       "</tr>\n",
       "</table>\n",
       "<table class=\"simpletable\">\n",
       "<tr>\n",
       "  <th>Omnibus:</th>       <td> 2.144</td> <th>  Durbin-Watson:     </th> <td>   1.415</td>\n",
       "</tr>\n",
       "<tr>\n",
       "  <th>Prob(Omnibus):</th> <td> 0.342</td> <th>  Jarque-Bera (JB):  </th> <td>   2.138</td>\n",
       "</tr>\n",
       "<tr>\n",
       "  <th>Skew:</th>          <td>-0.366</td> <th>  Prob(JB):          </th> <td>   0.343</td>\n",
       "</tr>\n",
       "<tr>\n",
       "  <th>Kurtosis:</th>      <td> 2.727</td> <th>  Cond. No.          </th> <td>    215.</td>\n",
       "</tr>\n",
       "</table><br/><br/>Warnings:<br/>[1] Standard Errors assume that the covariance matrix of the errors is correctly specified."
      ],
      "text/plain": [
       "<class 'statsmodels.iolib.summary.Summary'>\n",
       "\"\"\"\n",
       "                            OLS Regression Results                            \n",
       "==============================================================================\n",
       "Dep. Variable:           Arrestations   R-squared:                       0.673\n",
       "Model:                            OLS   Adj. R-squared:                  0.660\n",
       "Method:                 Least Squares   F-statistic:                     54.80\n",
       "Date:                Fri, 11 Dec 2020   Prob (F-statistic):           2.37e-19\n",
       "Time:                        06:48:04   Log-Likelihood:                -576.49\n",
       "No. Observations:                  84   AIC:                             1161.\n",
       "Df Residuals:                      80   BIC:                             1171.\n",
       "Df Model:                           3                                         \n",
       "Covariance Type:            nonrobust                                         \n",
       "==============================================================================\n",
       "                 coef    std err          t      P>|t|      [0.025      0.975]\n",
       "------------------------------------------------------------------------------\n",
       "const       2829.7342     73.587     38.454      0.000    2683.291    2976.178\n",
       "x1             6.7045      2.913      2.301      0.024       0.907      12.502\n",
       "x2          -461.9618    103.630     -4.458      0.000    -668.192    -255.731\n",
       "x3           -20.5252      4.275     -4.801      0.000     -29.034     -12.017\n",
       "==============================================================================\n",
       "Omnibus:                        2.144   Durbin-Watson:                   1.415\n",
       "Prob(Omnibus):                  0.342   Jarque-Bera (JB):                2.138\n",
       "Skew:                          -0.366   Prob(JB):                        0.343\n",
       "Kurtosis:                       2.727   Cond. No.                         215.\n",
       "==============================================================================\n",
       "\n",
       "Warnings:\n",
       "[1] Standard Errors assume that the covariance matrix of the errors is correctly specified.\n",
       "\"\"\""
      ]
     },
     "execution_count": 16,
     "metadata": {},
     "output_type": "execute_result"
    }
   ],
   "source": [
    "X_df = male_trends\n",
    "X_df = sm.add_constant(X_df.values)\n",
    "model = sm.OLS(y_df, X_df).fit()\n",
    "model.summary()"
   ]
  },
  {
   "cell_type": "code",
   "execution_count": 17,
   "metadata": {},
   "outputs": [],
   "source": [
    "female_trends = pd.concat([female_black_data_before, female_black_data_after])\n",
    "female_trends['x2'] = female_trends.Period.apply(lambda x : 0 if x=='Before Female' else 1)\n",
    "female_trends['x3'] = female_trends.Time.apply(lambda x: x-43 if x>43 else 0)\n",
    "y_df = female_trends['Arrestations']\n",
    "female_trends = female_trends.drop(columns = ['Date', 'Period', 'Arrestations']).rename(columns = {'Time':'x1'})"
   ]
  },
  {
   "cell_type": "code",
   "execution_count": 18,
   "metadata": {},
   "outputs": [
    {
     "data": {
      "text/html": [
       "<table class=\"simpletable\">\n",
       "<caption>OLS Regression Results</caption>\n",
       "<tr>\n",
       "  <th>Dep. Variable:</th>      <td>Arrestations</td>   <th>  R-squared:         </th> <td>   0.514</td>\n",
       "</tr>\n",
       "<tr>\n",
       "  <th>Model:</th>                   <td>OLS</td>       <th>  Adj. R-squared:    </th> <td>   0.496</td>\n",
       "</tr>\n",
       "<tr>\n",
       "  <th>Method:</th>             <td>Least Squares</td>  <th>  F-statistic:       </th> <td>   28.21</td>\n",
       "</tr>\n",
       "<tr>\n",
       "  <th>Date:</th>             <td>Fri, 11 Dec 2020</td> <th>  Prob (F-statistic):</th> <td>1.51e-12</td>\n",
       "</tr>\n",
       "<tr>\n",
       "  <th>Time:</th>                 <td>06:48:04</td>     <th>  Log-Likelihood:    </th> <td> -473.72</td>\n",
       "</tr>\n",
       "<tr>\n",
       "  <th>No. Observations:</th>      <td>    84</td>      <th>  AIC:               </th> <td>   955.4</td>\n",
       "</tr>\n",
       "<tr>\n",
       "  <th>Df Residuals:</th>          <td>    80</td>      <th>  BIC:               </th> <td>   965.2</td>\n",
       "</tr>\n",
       "<tr>\n",
       "  <th>Df Model:</th>              <td>     3</td>      <th>                     </th>     <td> </td>   \n",
       "</tr>\n",
       "<tr>\n",
       "  <th>Covariance Type:</th>      <td>nonrobust</td>    <th>                     </th>     <td> </td>   \n",
       "</tr>\n",
       "</table>\n",
       "<table class=\"simpletable\">\n",
       "<tr>\n",
       "    <td></td>       <th>coef</th>     <th>std err</th>      <th>t</th>      <th>P>|t|</th>  <th>[0.025</th>    <th>0.975]</th>  \n",
       "</tr>\n",
       "<tr>\n",
       "  <th>const</th> <td>  837.1030</td> <td>   21.651</td> <td>   38.663</td> <td> 0.000</td> <td>  794.016</td> <td>  880.190</td>\n",
       "</tr>\n",
       "<tr>\n",
       "  <th>x1</th>    <td>    0.7004</td> <td>    0.857</td> <td>    0.817</td> <td> 0.416</td> <td>   -1.005</td> <td>    2.406</td>\n",
       "</tr>\n",
       "<tr>\n",
       "  <th>x2</th>    <td>  -44.6187</td> <td>   30.491</td> <td>   -1.463</td> <td> 0.147</td> <td> -105.297</td> <td>   16.060</td>\n",
       "</tr>\n",
       "<tr>\n",
       "  <th>x3</th>    <td>   -4.9950</td> <td>    1.258</td> <td>   -3.971</td> <td> 0.000</td> <td>   -7.498</td> <td>   -2.492</td>\n",
       "</tr>\n",
       "</table>\n",
       "<table class=\"simpletable\">\n",
       "<tr>\n",
       "  <th>Omnibus:</th>       <td> 3.777</td> <th>  Durbin-Watson:     </th> <td>   1.622</td>\n",
       "</tr>\n",
       "<tr>\n",
       "  <th>Prob(Omnibus):</th> <td> 0.151</td> <th>  Jarque-Bera (JB):  </th> <td>   2.715</td>\n",
       "</tr>\n",
       "<tr>\n",
       "  <th>Skew:</th>          <td>-0.284</td> <th>  Prob(JB):          </th> <td>   0.257</td>\n",
       "</tr>\n",
       "<tr>\n",
       "  <th>Kurtosis:</th>      <td> 2.326</td> <th>  Cond. No.          </th> <td>    215.</td>\n",
       "</tr>\n",
       "</table><br/><br/>Warnings:<br/>[1] Standard Errors assume that the covariance matrix of the errors is correctly specified."
      ],
      "text/plain": [
       "<class 'statsmodels.iolib.summary.Summary'>\n",
       "\"\"\"\n",
       "                            OLS Regression Results                            \n",
       "==============================================================================\n",
       "Dep. Variable:           Arrestations   R-squared:                       0.514\n",
       "Model:                            OLS   Adj. R-squared:                  0.496\n",
       "Method:                 Least Squares   F-statistic:                     28.21\n",
       "Date:                Fri, 11 Dec 2020   Prob (F-statistic):           1.51e-12\n",
       "Time:                        06:48:04   Log-Likelihood:                -473.72\n",
       "No. Observations:                  84   AIC:                             955.4\n",
       "Df Residuals:                      80   BIC:                             965.2\n",
       "Df Model:                           3                                         \n",
       "Covariance Type:            nonrobust                                         \n",
       "==============================================================================\n",
       "                 coef    std err          t      P>|t|      [0.025      0.975]\n",
       "------------------------------------------------------------------------------\n",
       "const        837.1030     21.651     38.663      0.000     794.016     880.190\n",
       "x1             0.7004      0.857      0.817      0.416      -1.005       2.406\n",
       "x2           -44.6187     30.491     -1.463      0.147    -105.297      16.060\n",
       "x3            -4.9950      1.258     -3.971      0.000      -7.498      -2.492\n",
       "==============================================================================\n",
       "Omnibus:                        3.777   Durbin-Watson:                   1.622\n",
       "Prob(Omnibus):                  0.151   Jarque-Bera (JB):                2.715\n",
       "Skew:                          -0.284   Prob(JB):                        0.257\n",
       "Kurtosis:                       2.326   Cond. No.                         215.\n",
       "==============================================================================\n",
       "\n",
       "Warnings:\n",
       "[1] Standard Errors assume that the covariance matrix of the errors is correctly specified.\n",
       "\"\"\""
      ]
     },
     "execution_count": 18,
     "metadata": {},
     "output_type": "execute_result"
    }
   ],
   "source": [
    "X_df = female_trends\n",
    "X_df = sm.add_constant(X_df.values)\n",
    "model = sm.OLS(y_df, X_df).fit()\n",
    "model.summary()"
   ]
  },
  {
   "cell_type": "code",
   "execution_count": null,
   "metadata": {},
   "outputs": [],
   "source": []
  }
 ],
 "metadata": {
  "kernelspec": {
   "display_name": "Python 3",
   "language": "python",
   "name": "python3"
  },
  "language_info": {
   "codemirror_mode": {
    "name": "ipython",
    "version": 3
   },
   "file_extension": ".py",
   "mimetype": "text/x-python",
   "name": "python",
   "nbconvert_exporter": "python",
   "pygments_lexer": "ipython3",
   "version": "3.7.4"
  }
 },
 "nbformat": 4,
 "nbformat_minor": 2
}
