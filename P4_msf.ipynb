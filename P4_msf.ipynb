{
 "cells": [
  {
   "cell_type": "markdown",
   "metadata": {},
   "source": [
    "## The effect of the _\"Black Lives Matter\"_ movement on the arrestation of African American people in L.A.\n",
    "\n",
    "____"
   ]
  },
  {
   "cell_type": "markdown",
   "metadata": {},
   "source": [
    "### Context _(TODO)_"
   ]
  },
  {
   "cell_type": "markdown",
   "metadata": {},
   "source": [
    "...\n",
    "\n",
    "In July 2013, after the acquittal of the neighborhood watch coordinator George Zimmerman in the shooting of the African American Trayvin Martin, the hashtag #BlackLivesMatter appeared for the first time on social media. This event launched the creation of the now worldwide known movement \"Black Lives Matter\" that aims to advocate against violence inflicted on Black communities.\n",
    "\n",
    "___"
   ]
  },
  {
   "cell_type": "markdown",
   "metadata": {},
   "source": [
    "### The data _(TODO)_\n",
    "\n",
    "\n",
    "For our analysis, we will work on [Los Angeles Crime & Arrest Data](https://www.kaggle.com/cityofLA/los-angeles-crime-arrest-data?select=crime-data-from-2010-to-present.csv) which is provided by the City of Los Angeles. This dataset maps all the arrests that have been performed in LA between January 2010 and July 2019.\n",
    "\n",
    "This dataset contains the following main variables:\n",
    "\n",
    "- `Report ID`: ID of the arrest\n",
    "- `Arrest date`: date of the arrest\n",
    "- `Time`: an integer with the time of the arrest in 24 hour\n",
    "- `Area ID`: refers to the geographic areas within the department\n",
    "- `Area Name`: a string with the name of the area\n",
    "- `Reporting District`: an integer that represents a sub-area within the geographic area\n",
    "- `Age`: integer for the age of the arrested person\n",
    "- `Sex code`: a string with F for Female and M for Male\n",
    "- `Descent Code`: a string for each origin (among them, W stands for white, B for black, H for Hispanic/Latin/Mexican and O for other) \n",
    "- `Charge Group Code`: an integer corresponding to a category of arrest charge\n",
    "\n",
    "Other variables are also present but will not be studied in the analysis:\n",
    "\n",
    "- `Charge Group Code`\n",
    "- `Charge Group Description`\n",
    "- `Arrest Type Code`\n",
    "- `Charge`\n",
    "- `Charge Description`\n",
    "- `Address`\n",
    "- `Cross Street`\n",
    "- `Location`\n",
    "- `Zip Codes`\n",
    "- `Census Tracts`\n",
    "- `Precinct Boundaries`\n",
    "- `LA Specific Plans`\n",
    "- `Council Districts`\n",
    "- `Neighborhood Councils (Certified`\n",
    "\n"
   ]
  },
  {
   "cell_type": "markdown",
   "metadata": {},
   "source": [
    "___"
   ]
  },
  {
   "cell_type": "code",
   "execution_count": 1,
   "metadata": {},
   "outputs": [],
   "source": [
    "import pandas as pd\n",
    "%matplotlib inline\n",
    "import matplotlib.pyplot as plt\n",
    "import seaborn as sns\n",
    "import datetime\n",
    "import statsmodels.api as sm\n",
    "import pylab\n",
    "from scipy import stats\n",
    "from matplotlib.lines import Line2D\n",
    "\n",
    "\n",
    "arrest_data = pd.read_csv('arrest-data-from-2010-to-present.csv', error_bad_lines = False)"
   ]
  },
  {
   "cell_type": "markdown",
   "metadata": {},
   "source": [
    "Now that we've loaded our data, let's have a sneak peek at our dataframe"
   ]
  },
  {
   "cell_type": "code",
   "execution_count": 2,
   "metadata": {},
   "outputs": [
    {
     "data": {
      "text/html": [
       "<div>\n",
       "<style scoped>\n",
       "    .dataframe tbody tr th:only-of-type {\n",
       "        vertical-align: middle;\n",
       "    }\n",
       "\n",
       "    .dataframe tbody tr th {\n",
       "        vertical-align: top;\n",
       "    }\n",
       "\n",
       "    .dataframe thead th {\n",
       "        text-align: right;\n",
       "    }\n",
       "</style>\n",
       "<table border=\"1\" class=\"dataframe\">\n",
       "  <thead>\n",
       "    <tr style=\"text-align: right;\">\n",
       "      <th></th>\n",
       "      <th>Report ID</th>\n",
       "      <th>Arrest Date</th>\n",
       "      <th>Time</th>\n",
       "      <th>Area ID</th>\n",
       "      <th>Area Name</th>\n",
       "      <th>Reporting District</th>\n",
       "      <th>Age</th>\n",
       "      <th>Sex Code</th>\n",
       "      <th>Descent Code</th>\n",
       "      <th>Charge Group Code</th>\n",
       "      <th>...</th>\n",
       "      <th>Charge Description</th>\n",
       "      <th>Address</th>\n",
       "      <th>Cross Street</th>\n",
       "      <th>Location</th>\n",
       "      <th>Zip Codes</th>\n",
       "      <th>Census Tracts</th>\n",
       "      <th>Precinct Boundaries</th>\n",
       "      <th>LA Specific Plans</th>\n",
       "      <th>Council Districts</th>\n",
       "      <th>Neighborhood Councils (Certified)</th>\n",
       "    </tr>\n",
       "  </thead>\n",
       "  <tbody>\n",
       "    <tr>\n",
       "      <th>0</th>\n",
       "      <td>5666847</td>\n",
       "      <td>2019-06-22T00:00:00.000</td>\n",
       "      <td>1630.0</td>\n",
       "      <td>14</td>\n",
       "      <td>Pacific</td>\n",
       "      <td>1457</td>\n",
       "      <td>44</td>\n",
       "      <td>M</td>\n",
       "      <td>W</td>\n",
       "      <td>24.0</td>\n",
       "      <td>...</td>\n",
       "      <td>VANDALISM</td>\n",
       "      <td>12300    CULVER                       BL</td>\n",
       "      <td>NaN</td>\n",
       "      <td>{'latitude': '33.992', 'human_address': '{\"add...</td>\n",
       "      <td>24031.0</td>\n",
       "      <td>918.0</td>\n",
       "      <td>1137.0</td>\n",
       "      <td>10.0</td>\n",
       "      <td>10.0</td>\n",
       "      <td>85.0</td>\n",
       "    </tr>\n",
       "    <tr>\n",
       "      <th>1</th>\n",
       "      <td>5666688</td>\n",
       "      <td>2019-06-22T00:00:00.000</td>\n",
       "      <td>1010.0</td>\n",
       "      <td>10</td>\n",
       "      <td>West Valley</td>\n",
       "      <td>1061</td>\n",
       "      <td>8</td>\n",
       "      <td>M</td>\n",
       "      <td>O</td>\n",
       "      <td>NaN</td>\n",
       "      <td>...</td>\n",
       "      <td>NaN</td>\n",
       "      <td>19000    VANOWEN                      ST</td>\n",
       "      <td>NaN</td>\n",
       "      <td>{'latitude': '34.1687', 'human_address': '{\"ad...</td>\n",
       "      <td>19339.0</td>\n",
       "      <td>321.0</td>\n",
       "      <td>1494.0</td>\n",
       "      <td>NaN</td>\n",
       "      <td>4.0</td>\n",
       "      <td>10.0</td>\n",
       "    </tr>\n",
       "    <tr>\n",
       "      <th>2</th>\n",
       "      <td>5666570</td>\n",
       "      <td>2019-06-22T00:00:00.000</td>\n",
       "      <td>400.0</td>\n",
       "      <td>15</td>\n",
       "      <td>N Hollywood</td>\n",
       "      <td>1543</td>\n",
       "      <td>31</td>\n",
       "      <td>F</td>\n",
       "      <td>O</td>\n",
       "      <td>22.0</td>\n",
       "      <td>...</td>\n",
       "      <td>DRUNK DRIVING ALCOHOL/DRUGS</td>\n",
       "      <td>MAGNOLIA                     AV</td>\n",
       "      <td>LAUREL CANYON                BL</td>\n",
       "      <td>{'latitude': '34.1649', 'human_address': '{\"ad...</td>\n",
       "      <td>8890.0</td>\n",
       "      <td>205.0</td>\n",
       "      <td>1332.0</td>\n",
       "      <td>17.0</td>\n",
       "      <td>5.0</td>\n",
       "      <td>39.0</td>\n",
       "    </tr>\n",
       "    <tr>\n",
       "      <th>3</th>\n",
       "      <td>5666529</td>\n",
       "      <td>2019-06-22T00:00:00.000</td>\n",
       "      <td>302.0</td>\n",
       "      <td>17</td>\n",
       "      <td>Devonshire</td>\n",
       "      <td>1738</td>\n",
       "      <td>23</td>\n",
       "      <td>F</td>\n",
       "      <td>W</td>\n",
       "      <td>22.0</td>\n",
       "      <td>...</td>\n",
       "      <td>DRUNK DRIVING ALCOHOL/DRUGS</td>\n",
       "      <td>HAYVENHURST                  ST</td>\n",
       "      <td>N  REGAN                        FY</td>\n",
       "      <td>{'latitude': '34.2692', 'human_address': '{\"ad...</td>\n",
       "      <td>19329.0</td>\n",
       "      <td>69.0</td>\n",
       "      <td>388.0</td>\n",
       "      <td>NaN</td>\n",
       "      <td>2.0</td>\n",
       "      <td>78.0</td>\n",
       "    </tr>\n",
       "    <tr>\n",
       "      <th>4</th>\n",
       "      <td>5666742</td>\n",
       "      <td>2019-06-22T00:00:00.000</td>\n",
       "      <td>1240.0</td>\n",
       "      <td>14</td>\n",
       "      <td>Pacific</td>\n",
       "      <td>1472</td>\n",
       "      <td>28</td>\n",
       "      <td>M</td>\n",
       "      <td>W</td>\n",
       "      <td>8.0</td>\n",
       "      <td>...</td>\n",
       "      <td>OBSTRUCT/RESIST EXECUTIVE OFFICER</td>\n",
       "      <td>6600    ESPLANADE                    ST</td>\n",
       "      <td>NaN</td>\n",
       "      <td>{'latitude': '33.9609', 'human_address': '{\"ad...</td>\n",
       "      <td>25075.0</td>\n",
       "      <td>937.0</td>\n",
       "      <td>241.0</td>\n",
       "      <td>10.0</td>\n",
       "      <td>10.0</td>\n",
       "      <td>16.0</td>\n",
       "    </tr>\n",
       "  </tbody>\n",
       "</table>\n",
       "<p>5 rows × 23 columns</p>\n",
       "</div>"
      ],
      "text/plain": [
       "   Report ID              Arrest Date    Time  Area ID    Area Name  \\\n",
       "0    5666847  2019-06-22T00:00:00.000  1630.0       14      Pacific   \n",
       "1    5666688  2019-06-22T00:00:00.000  1010.0       10  West Valley   \n",
       "2    5666570  2019-06-22T00:00:00.000   400.0       15  N Hollywood   \n",
       "3    5666529  2019-06-22T00:00:00.000   302.0       17   Devonshire   \n",
       "4    5666742  2019-06-22T00:00:00.000  1240.0       14      Pacific   \n",
       "\n",
       "   Reporting District  Age Sex Code Descent Code  Charge Group Code  ...  \\\n",
       "0                1457   44        M            W               24.0  ...   \n",
       "1                1061    8        M            O                NaN  ...   \n",
       "2                1543   31        F            O               22.0  ...   \n",
       "3                1738   23        F            W               22.0  ...   \n",
       "4                1472   28        M            W                8.0  ...   \n",
       "\n",
       "                  Charge Description  \\\n",
       "0                          VANDALISM   \n",
       "1                                NaN   \n",
       "2        DRUNK DRIVING ALCOHOL/DRUGS   \n",
       "3        DRUNK DRIVING ALCOHOL/DRUGS   \n",
       "4  OBSTRUCT/RESIST EXECUTIVE OFFICER   \n",
       "\n",
       "                                    Address  \\\n",
       "0  12300    CULVER                       BL   \n",
       "1  19000    VANOWEN                      ST   \n",
       "2           MAGNOLIA                     AV   \n",
       "3           HAYVENHURST                  ST   \n",
       "4   6600    ESPLANADE                    ST   \n",
       "\n",
       "                         Cross Street  \\\n",
       "0                                 NaN   \n",
       "1                                 NaN   \n",
       "2     LAUREL CANYON                BL   \n",
       "3  N  REGAN                        FY   \n",
       "4                                 NaN   \n",
       "\n",
       "                                            Location Zip Codes Census Tracts  \\\n",
       "0  {'latitude': '33.992', 'human_address': '{\"add...   24031.0         918.0   \n",
       "1  {'latitude': '34.1687', 'human_address': '{\"ad...   19339.0         321.0   \n",
       "2  {'latitude': '34.1649', 'human_address': '{\"ad...    8890.0         205.0   \n",
       "3  {'latitude': '34.2692', 'human_address': '{\"ad...   19329.0          69.0   \n",
       "4  {'latitude': '33.9609', 'human_address': '{\"ad...   25075.0         937.0   \n",
       "\n",
       "  Precinct Boundaries  LA Specific Plans  Council Districts  \\\n",
       "0              1137.0               10.0               10.0   \n",
       "1              1494.0                NaN                4.0   \n",
       "2              1332.0               17.0                5.0   \n",
       "3               388.0                NaN                2.0   \n",
       "4               241.0               10.0               10.0   \n",
       "\n",
       "   Neighborhood Councils (Certified)  \n",
       "0                               85.0  \n",
       "1                               10.0  \n",
       "2                               39.0  \n",
       "3                               78.0  \n",
       "4                               16.0  \n",
       "\n",
       "[5 rows x 23 columns]"
      ]
     },
     "execution_count": 2,
     "metadata": {},
     "output_type": "execute_result"
    }
   ],
   "source": [
    "arrest_data.head()"
   ]
  },
  {
   "cell_type": "markdown",
   "metadata": {},
   "source": [
    "For our analysis, it is not important to keep all columns. Only the ones regarding the race, the date of the arrest, the gender and the type of arrest (i.e. infraction or felony) are of interest to us."
   ]
  },
  {
   "cell_type": "code",
   "execution_count": null,
   "metadata": {
    "scrolled": true
   },
   "outputs": [],
   "source": [
    "#Picking the necessary columns and renaming them\n",
    "arrest_data = arrest_data[['Arrest Date', 'Sex Code', 'Descent Code', 'Arrest Type Code']] \\\n",
    "                .rename(columns = {'Arrest Date' : 'Date', 'Sex Code': 'Gender', 'Descent Code': 'Race', \n",
    "                                   'Arrest Type Code': 'Arrest Type'})\n",
    "\n",
    "\n",
    "#Date --> DateTime\n",
    "arrest_data['Date'] = pd.to_datetime(arrest_data['Date'], errors='coerce')\n",
    "\n",
    "#Verifying that no date is 'NaT' (Not a Time)\n",
    "assert(arrest_data.Date.isnull().sum() == 0)\n",
    "\n",
    "#Sanity checks\n",
    "assert(datetime.datetime(2010,1,1) == min(arrest_data.Date))\n",
    "assert(datetime.datetime(2019,6,22) == max(arrest_data.Date))\n",
    "\n",
    "arrest_data.head()"
   ]
  },
  {
   "cell_type": "markdown",
   "metadata": {},
   "source": [
    "___"
   ]
  },
  {
   "cell_type": "markdown",
   "metadata": {},
   "source": [
    "## Question 1\n",
    "\n",
    "_Since the creation of the Black Lives Matter movement, was there a change in the trend of the overall arrests of African American people in L.A.?_"
   ]
  },
  {
   "cell_type": "markdown",
   "metadata": {},
   "source": [
    "Let's start by looking at the number of arrests per race, just to get an idea of what that looks like"
   ]
  },
  {
   "cell_type": "code",
   "execution_count": null,
   "metadata": {
    "scrolled": false
   },
   "outputs": [],
   "source": [
    "race_data = arrest_data[['Date', 'Race']]\n",
    "\n",
    "fig = plt.figure(figsize=(8,9))\n",
    "ax = plot = sns.countplot(x='Race', data= race_data, palette = 'bright')\n",
    "plt.title(\"Number of Arrests in L.A. w.r.t Race\", pad = 20)\n",
    "plt.ylabel('Number of Arrests', labelpad = 20)\n",
    "plt.xlabel('Race', labelpad = 20)\n",
    "plt.show()\n",
    "\n",
    "#Getting count for each race that has a high number of arrests (> 5%)\n",
    "counts = race_data.Race.value_counts()\n",
    "black_counts = counts['B']\n",
    "hispanic_counts = counts['H']\n",
    "white_counts = counts['W']\n",
    "others_counts = counts['O']\n",
    "\n",
    "print('Number of Black people arrested (2010-2019) :  ' + str(black_counts))\n",
    "print('Percentage: ' + str(round(black_counts/len(arrest_data)*100,3)) + \"%\\n\")\n",
    "print('Number of Hispanic people arrested (2010-2019) : ' + str(hispanic_counts))\n",
    "print('Percentage: ' + str(round(hispanic_counts/len(arrest_data)*100,3)) + \"%\\n\")\n",
    "print('Number of White people arrested (2010-2019) : ' + str(white_counts))\n",
    "print('Percentage: ' + str(round(white_counts/len(arrest_data)*100,3)) + \"%\\n\")\n",
    "print('Number of Others people arrested (2010-2019) : ' + str(others_counts))\n",
    "print('Percentage: ' + str(round(others_counts/len(arrest_data)*100,3)) + \"%\\n\")\n"
   ]
  },
  {
   "cell_type": "markdown",
   "metadata": {},
   "source": [
    "We can already see that there is quite a decrepency in the number of arrests w.r.t the race."
   ]
  },
  {
   "cell_type": "markdown",
   "metadata": {},
   "source": [
    "The observed difference in the number of arrest per race could be due to a difference in the number of people of different race living in LA. To assess this, we will scale the data."
   ]
  },
  {
   "cell_type": "code",
   "execution_count": null,
   "metadata": {},
   "outputs": [],
   "source": [
    "# plot only the 3 main race (B, W, H), multiply the number of arrest of each race by the percentage of the race in the population\n",
    "# 76.3% for W, 13.4% for B, 18.5% for H (https://www.census.gov/quickfacts/fact/table/US/PST045219)\n",
    "\n",
    "arrest_data_scaled = arrest_data[(arrest_data.Race == 'W') | (arrest_data.Race == 'B')| (arrest_data.Race == 'H')]"
   ]
  },
  {
   "cell_type": "markdown",
   "metadata": {},
   "source": [
    "Now, let's look at how the creation of the Black Lives Matter movement affected the number of arrest. We will start by counting the number of African American people arrested before and after July, 2013 (from January 2010 to December 2016, i.e. 3.5 years before and after the creation of the black lives matter).\n",
    "\n",
    "We will begin by looking at \"non-model\" empirical findings, without using a statistical model. The mean number of arrests of African American before and after the creation of the movement will be compared. "
   ]
  },
  {
   "cell_type": "markdown",
   "metadata": {},
   "source": [
    "#### Non-model empirical findings"
   ]
  },
  {
   "cell_type": "code",
   "execution_count": null,
   "metadata": {},
   "outputs": [],
   "source": [
    "black_data = race_data[race_data['Race'] == 'B']\n",
    "movement_creation_date = datetime.datetime(2013, 8, 1)\n",
    "black_before_movement = black_data[black_data['Date'] < movement_creation_date].assign(Period = \"Before\")\n",
    "black_after_movement = black_data[(black_data['Date'] >= movement_creation_date) & \n",
    "                                  (black_data['Date'] <= datetime.datetime(2016,12,31))].assign(Period = \"After\")\n",
    "\n",
    "fig = plt.figure(figsize=(6,6))\n",
    "ax = plot = sns.countplot(x='Period', data= pd.concat([black_before_movement, black_after_movement]), palette = 'bright')\n",
    "plt.title(\"Number of Arrests of African American people before and after the creation of Black Lives Matter\", pad = 20)\n",
    "plt.ylabel('Number of Arrests', labelpad = 20)\n",
    "plt.xlabel('Period', labelpad = 20)\n",
    "plt.show()\n"
   ]
  },
  {
   "cell_type": "markdown",
   "metadata": {},
   "source": [
    "At first glance, it would seem that the creation of the Black Lives Matter movement had a clear impact on the number of arrests of people of African American descent.  "
   ]
  },
  {
   "cell_type": "code",
   "execution_count": null,
   "metadata": {},
   "outputs": [],
   "source": [
    "print('Number of Arrests Before : ' + str(len(black_before_movement)))\n",
    "print('Number of Arrests After  : ' + str(len(black_after_movement)))\n",
    "print('Decrease percentage : ' + str(round((len(black_before_movement)- len(black_after_movement))/len(black_before_movement)*100,2)) + \"%\")"
   ]
  },
  {
   "cell_type": "markdown",
   "metadata": {},
   "source": [
    "Indeed, we can observe a  reduction of 37'651 arrests that corresponds approximately to a drop of 22.86% in the arrests of African American after July 2013. "
   ]
  },
  {
   "cell_type": "code",
   "execution_count": null,
   "metadata": {},
   "outputs": [],
   "source": [
    "#TO add: QQplot to check normality and t-test to see if this reduction is statistically significant"
   ]
  },
  {
   "cell_type": "markdown",
   "metadata": {},
   "source": [
    "To better analyse the arrests trends per month, a model-based empirical analysis is required. To do so, a segmented regression analysis is performed. We will perform the segmented regression of the data obtained with July 2013 (date of the creation of the Black Lives Matter movement) as the \"interruption\" element.\n",
    "\n",
    "We will start by visualizing this regression analysis."
   ]
  },
  {
   "cell_type": "markdown",
   "metadata": {},
   "source": [
    "#### Regression analysis visualization"
   ]
  },
  {
   "cell_type": "code",
   "execution_count": null,
   "metadata": {},
   "outputs": [],
   "source": [
    "black_trends_before = black_before_movement.set_index('Date') \\\n",
    "                        .replace('B', 1) \\\n",
    "                        .rename(columns = {'Race' : 'Arrestations'}) \\\n",
    "                        .groupby(pd.Grouper(freq = 'M')).sum() \\\n",
    "                        .assign(Period = 'Before')\n",
    "\n",
    "black_trends_after = black_after_movement.set_index('Date') \\\n",
    "                        .replace('B', 1) \\\n",
    "                        .rename(columns = {'Race' : 'Arrestations'}) \\\n",
    "                        .groupby(pd.Grouper(freq = 'M')).sum() \\\n",
    "                        .assign(Period = 'After')\n",
    "\n",
    "black_trends = pd.concat([black_trends_before, black_trends_after]).reset_index(drop = True)\n",
    "black_trends['Time'] = black_trends.index + 1"
   ]
  },
  {
   "cell_type": "markdown",
   "metadata": {},
   "source": [
    "**Remark :** The first step is to prepare the dataset that will be used for the visualization. The number of arrests of African Americans is aggregated by months and the parameter `Period` is used to label the data (to distinguish between arrests before and after July 2013)."
   ]
  },
  {
   "cell_type": "code",
   "execution_count": null,
   "metadata": {
    "scrolled": false
   },
   "outputs": [],
   "source": [
    "#Showing the results of the segmented linear regression\n",
    "ax = sns.lmplot(x=\"Time\", y=\"Arrestations\", hue = \"Period\", data=black_trends, ci=95, palette=\"bright\", height = 12)\n",
    "ax._legend.remove()\n",
    "plt.subplots_adjust(top=0.9)\n",
    "ax.fig.suptitle('Pre and Post July 2013 Arrestations Trends of African American people', fontsize = 14)\n",
    "ax.set_axis_labels(\"Time (Months)\", \"Total Arrestations\", fontsize = 13, labelpad = 10)\n",
    "plt.axvline(x = 43.5, color = 'red', alpha = 2, linestyle = '--')\n",
    "plt.xlim(0, 86)\n",
    "plt.ylim(2200, None)\n",
    "ax.set(xticks = range(0, 92, 4))\n",
    "#Constructing the legend\n",
    "legend_elements = [Line2D([0], [0], marker='o', color='w', label='Total Arrestations by month (Before)', markerfacecolor='blue', markersize=7.5),\n",
    "                   Line2D([0], [0], marker='o', color='w', label='Total Arrestations by month (After)', markerfacecolor='darkorange', markersize=7.5),\n",
    "                   Line2D([0], [0], color='blue', label = \"Trend Pre-June 2013\"), \n",
    "                   Line2D([0], [0], color='darkorange', label = \"Trend Post-June 2013\"), \n",
    "                   Line2D([0], [0], color='red', linestyle = '--', alpha = 2 , label = \"Mid July 2013 - Creation of Black Lives Matter\")]\n",
    "\n",
    "plt.legend(handles=legend_elements)\n",
    "\n",
    "\n",
    "plt.show()"
   ]
  },
  {
   "cell_type": "markdown",
   "metadata": {},
   "source": [
    "This graph includes the trend of the results of the regression analysis and a scatter plot of the data.\n",
    "\n",
    "In this graph, one can observe a large and immediate drop in the number of arrests right after the creation of the movement. A large difference in the trend of the data can also be observed.\n",
    "\n",
    "Let's support these findings with numerical results."
   ]
  },
  {
   "cell_type": "markdown",
   "metadata": {},
   "source": [
    "#### Numerical Segmented regression"
   ]
  },
  {
   "cell_type": "markdown",
   "metadata": {},
   "source": [
    "The equation of a segment regression analysis can be seen as follow:\n",
    "\n",
    "$Y_{t} = \\beta_{0} + \\beta_{1}\\times time + \\beta_{2}\\times intervention +  \\beta_{3}\\times postslope + \\epsilon_{1}^{111}  $ \n",
    "\n",
    "In our case, the varialbe $Y_{t}$ is the monthly aggregate of the arrests of African American people. \n",
    "\n",
    "Let's clarify the meaning of the parameters in the above-mentioned equation:\n",
    "\n",
    "- $\\beta_{0}$ represents the baseline level of $Y_t$ at the beginning of the study (meaning, the total number of arrests during the first month)\n",
    "- $\\beta_{1}$ represents the slope of the trend independently from the intervention event (meaning the growh rate of the arrests of African Americans independently from the creation of Black Lives Matter)\n",
    "- $\\beta_{2}$ represents the change in the number of arrests; it measures and represents the effect of the intervention event (i.e. the Black Lives Matter creation)\n",
    "- $\\beta_{3}$ represents the change in the overall trend after the event. It is used to assess whether there is a raise or a decline in the number of arrests of African Americans\n",
    "\n"
   ]
  },
  {
   "cell_type": "markdown",
   "metadata": {},
   "source": [
    "Les't begin by constructing the table that will be used:"
   ]
  },
  {
   "cell_type": "code",
   "execution_count": null,
   "metadata": {},
   "outputs": [],
   "source": [
    "black_data_regression = black_trends.copy()\n",
    "black_data_regression['x2'] = black_data_regression['Period'].apply(lambda x : 0 if x == 'Before' else 1)\n",
    "black_data_regression['x3'] = black_data_regression['Time'].apply(lambda x : x-43 if x>43 else 0)\n",
    "y_df = black_data_regression['Arrestations']\n",
    "black_data_regression = black_data_regression.drop(columns = ['Arrestations','Period']).rename(columns = {'Time':'x1'})\n",
    "black_data_regression"
   ]
  },
  {
   "cell_type": "markdown",
   "metadata": {},
   "source": [
    "**Remark:** The following table contains the three variables that will be used to perform the segmented regression analysis that follows the equation presented above.\n",
    "In our case, the column `x1` of the dataframe corresponds to the variable $\\text{time}$ of the equation, the column `x2` corresponds to the variable $\\text{intervention}$ and the column `x3` corresponds to the variable $\\text{postslope}$."
   ]
  },
  {
   "cell_type": "markdown",
   "metadata": {},
   "source": [
    "Now, let's fit the regression model:"
   ]
  },
  {
   "cell_type": "code",
   "execution_count": null,
   "metadata": {},
   "outputs": [],
   "source": [
    "X_df = black_data_regression\n",
    "X_df = sm.add_constant(X_df.values)\n",
    "model = sm.OLS(y_df, X_df).fit()\n",
    "model.summary()"
   ]
  },
  {
   "cell_type": "markdown",
   "metadata": {},
   "source": [
    "## To add: analyze and conclude on the table"
   ]
  },
  {
   "cell_type": "markdown",
   "metadata": {},
   "source": [
    "---"
   ]
  },
  {
   "cell_type": "markdown",
   "metadata": {},
   "source": [
    "## Question 2\n",
    "\n",
    "How does the evolution of the trend of arrests of the other races differ from those of the African American people ?"
   ]
  },
  {
   "cell_type": "markdown",
   "metadata": {},
   "source": [
    "In the first part of our analysis, we found a decrease in the overall number of arrests of African Americans after July 2013, date of the creation of the Black Lives Matter movement. To ensure that this reduction is linked with this disruptive event, a control group should be added to the analysis. \n",
    "\n",
    "We decided to use as a control group White people living in L.A.. Indeed, the Black Lives Matter movement aims to eradicate white supremacy. Thus, the creation of the movement should not influence the arrestation trend of white people."
   ]
  },
  {
   "cell_type": "markdown",
   "metadata": {},
   "source": [
    "#### Non-model empirical findings"
   ]
  },
  {
   "cell_type": "markdown",
   "metadata": {},
   "source": [
    "As for the analysis of African Americans, we begin with a non-model analysis.\n",
    "\n",
    "Let's start by preparing the data to analyse the arrestations of white people."
   ]
  },
  {
   "cell_type": "code",
   "execution_count": null,
   "metadata": {},
   "outputs": [],
   "source": [
    "white_data = race_data[race_data['Race'] == 'W']\n",
    "white_before_movement = white_data[white_data['Date'] < movement_creation_date].assign(Period = \"Before\")\n",
    "white_after_movement = white_data[(white_data['Date'] >= movement_creation_date) & \n",
    "                                  (white_data['Date'] <= datetime.datetime(2016,12,31))].assign(Period = \"After\")\n",
    "\n",
    "fig = plt.figure(figsize=(6,6))\n",
    "ax = plot = sns.countplot(x='Period', data= pd.concat([white_before_movement, white_after_movement]), palette = 'bright')\n",
    "plt.title(\"Number of Arrests of White people before and after the creation of Black Lives Matter\", pad = 20)\n",
    "plt.ylabel('Number of Arrests', labelpad = 20)\n",
    "plt.xlabel('Period', labelpad = 20)\n",
    "plt.show()"
   ]
  },
  {
   "cell_type": "code",
   "execution_count": null,
   "metadata": {
    "scrolled": true
   },
   "outputs": [],
   "source": [
    "print('Number of Arrests Before : ' + str(len(white_before_movement)))\n",
    "print('Number of Arrests After  : ' + str(len(white_after_movement)))\n",
    "print('Decrease percentage : ' + str(round((len(white_before_movement)- len(white_after_movement))/len(white_before_movement)*100,2)) + \"%\")"
   ]
  },
  {
   "cell_type": "markdown",
   "metadata": {},
   "source": [
    "One can observe a similar decrease in the number of arrests."
   ]
  },
  {
   "cell_type": "markdown",
   "metadata": {},
   "source": [
    "#### Regression analysis visualization"
   ]
  },
  {
   "cell_type": "markdown",
   "metadata": {},
   "source": [
    "Let's visualize the regression analysis to have a better insight."
   ]
  },
  {
   "cell_type": "code",
   "execution_count": null,
   "metadata": {},
   "outputs": [],
   "source": [
    "white_trends_before = white_before_movement.set_index('Date') \\\n",
    "                        .replace('W', 1) \\\n",
    "                        .rename(columns = {'Race' : 'Arrestations'}) \\\n",
    "                        .groupby(pd.Grouper(freq = 'M')).sum() \\\n",
    "                        .assign(Period = 'Before')\n",
    "\n",
    "white_trends_after = white_after_movement.set_index('Date') \\\n",
    "                        .replace('W', 1) \\\n",
    "                        .rename(columns = {'Race' : 'Arrestations'}) \\\n",
    "                        .groupby(pd.Grouper(freq = 'M')).sum() \\\n",
    "                        .assign(Period = 'After')\n",
    "\n",
    "white_trends = pd.concat([white_trends_before, white_trends_after]).reset_index(drop = True)\n",
    "white_trends['Time'] = white_trends.index + 1"
   ]
  },
  {
   "cell_type": "markdown",
   "metadata": {},
   "source": [
    "**Remark :** We start by selecting the data of interest (i.e. the arrestations of white people) and aggregating it on a monthly basis."
   ]
  },
  {
   "cell_type": "markdown",
   "metadata": {},
   "source": [
    "To plot the regression, we create a dataset that contains the arrests of both black and white people. A `label_values` function is defined to set labels to the obtained data. It will be used to discriminate between arrests of white and black people, before and after July 2013."
   ]
  },
  {
   "cell_type": "code",
   "execution_count": null,
   "metadata": {},
   "outputs": [],
   "source": [
    "def label_values(x):\n",
    "    if x <= 42:\n",
    "        return 'Trend of black arrests before July 2013'\n",
    "    elif x <= 83:\n",
    "        return 'Trend of black arrests after July 2013'\n",
    "    elif x <= 126:\n",
    "        return 'Trend of white arrests before July 2013'\n",
    "    else:\n",
    "        return 'Trend of white arrests after July 2013'"
   ]
  },
  {
   "cell_type": "code",
   "execution_count": null,
   "metadata": {},
   "outputs": [],
   "source": [
    "control_trends = black_trends.copy()\n",
    "control_trends = control_trends.append(white_trends)\n",
    "control_trends.reset_index(inplace = True)\n",
    "\n",
    "#Defining the labels\n",
    "control_trends['Label'] = control_trends.index.values\n",
    "control_trends['Label'] = control_trends['Label'].apply(label_values)"
   ]
  },
  {
   "cell_type": "code",
   "execution_count": null,
   "metadata": {},
   "outputs": [],
   "source": [
    "ax = sns.lmplot(x=\"Time\", y=\"Arrestations\", hue = \"Label\", data=control_trends, ci=95, palette=\"bright\", height = 12)\n",
    "ax._legend.remove()\n",
    "plt.subplots_adjust(top=0.9)\n",
    "ax.fig.suptitle('Pre and Post July 2013 Arrestations Trends of African American people', fontsize = 14)\n",
    "ax.set_axis_labels(\"Time (Months)\", \"Total Arrestations\", fontsize = 13, labelpad = 10)\n",
    "plt.axvline(x = 43.5, color = 'red', alpha = 2, linestyle = '--')\n",
    "plt.xlim(0, 86)\n",
    "plt.ylim(1000, None)\n",
    "ax.set(xticks = range(0, 92, 4))\n",
    "#Constructing the legend\n",
    "legend_elements = [Line2D([0], [0], marker='o', color='w', label='Total Arrestations of Black poeple by month (Before)', markerfacecolor='blue', markersize=7.5),\n",
    "                   Line2D([0], [0], marker='o', color='w', label='Total Arrestations of Black people month (After)', markerfacecolor='darkorange', markersize=7.5),\n",
    "                   Line2D([0], [0], marker='o', color='w', label='Total Arrestations of White people by month (Before)', markerfacecolor='green', markersize=7.5),\n",
    "                   Line2D([0], [0], marker='o', color='w', label='Total Arrestations of White people by month (After)', markerfacecolor='red', markersize=7.5),\n",
    "                   Line2D([0], [0], color='blue', label = \"Trend of Black Arrests Pre-June 2013\"), \n",
    "                   Line2D([0], [0], color='darkorange', label = \"Trend of Black Arrests Post-June 2013\"), \n",
    "                   Line2D([0], [0], color='green', label = \"Trend of White Arrests Pre-June 2013\"), \n",
    "                   Line2D([0], [0], color='red', label = \"Trend of White Arrests Post-June 2013\"), \n",
    "                   Line2D([0], [0], color='red', linestyle = '--', alpha = 2 , label = \"Mid July 2013 - Creation of Black Lives Matter\")]\n",
    "\n",
    "plt.legend(handles=legend_elements)\n",
    "\n",
    "\n",
    "plt.show()"
   ]
  },
  {
   "cell_type": "markdown",
   "metadata": {},
   "source": [
    "As before, the graph of the segmented regression analysis includes the trend of the results of the analysis and a scatter plot of the data. This graphs represents the trend of arrests of Black people and the trend of arrests of White people (the control group).\n",
    "\n",
    "In this graph, one can observe a similar trend for the arrest of white and black people after July 2013. These findings are unconsistents with our hypothesis. Before concluding, let's perform a numerical segmented regression."
   ]
  },
  {
   "cell_type": "markdown",
   "metadata": {},
   "source": [
    "#### Numerical Segmented regression"
   ]
  },
  {
   "cell_type": "markdown",
   "metadata": {},
   "source": [
    "Here, we apply a similar method to the one used to perform the numerical segment regression for black people arrests."
   ]
  },
  {
   "cell_type": "code",
   "execution_count": null,
   "metadata": {},
   "outputs": [],
   "source": [
    "white_data_regression = white_trends.copy()\n",
    "white_data_regression['x2'] = white_data_regression['Period'].apply(lambda x : 0 if x == 'Before' else 1)\n",
    "white_data_regression['x3'] = white_data_regression['Time'].apply(lambda x : x-43 if x>43 else 0)\n",
    "y_df = white_data_regression['Arrestations']\n",
    "white_data_regression = white_data_regression.drop(columns = ['Arrestations','Period']).rename(columns = {'Time':'x1'})\n",
    "\n",
    "X_df = white_data_regression\n",
    "X_df = sm.add_constant(X_df.values)\n",
    "model = sm.OLS(y_df, X_df).fit()\n",
    "model.summary()"
   ]
  },
  {
   "cell_type": "markdown",
   "metadata": {},
   "source": [
    "These results show also a reduction in the trend of arrests of white people after July 2013.\n",
    "\n",
    "Whith a closer look on the political history of L.A. we found that in July 2013, Eric Marcetti began his term as L.A. mayer. Mayor Garcetti aimed at making L.A. a safer place. This could explain the overall decrease in arrestations (across all races) after July 2013."
   ]
  },
  {
   "cell_type": "markdown",
   "metadata": {},
   "source": [
    "---"
   ]
  },
  {
   "cell_type": "markdown",
   "metadata": {},
   "source": [
    "### Question 3\n",
    "\n",
    "Is there a difference in the number of arrestations between males and females African Americans ? What about after the Black Lives Matter movement ?"
   ]
  },
  {
   "cell_type": "code",
   "execution_count": null,
   "metadata": {},
   "outputs": [],
   "source": [
    "gender_black_data = arrest_data[arrest_data['Race'] == 'B'][['Date', 'Gender']].reset_index(drop = True)\n",
    "\n",
    "fig = plt.figure(figsize=(6,6))\n",
    "ax = plot = sns.countplot(x='Gender', data=gender_black_data, palette = 'bright')\n",
    "plt.title(\"Number of Arrests of African American people w.r.t gender (Jan 2010 - Jun 2019)\", pad = 20)\n",
    "plt.ylabel('Number of Arrests', labelpad = 20)\n",
    "plt.xlabel('Gender', labelpad = 20)\n",
    "plt.show()"
   ]
  },
  {
   "cell_type": "code",
   "execution_count": null,
   "metadata": {},
   "outputs": [],
   "source": [
    "gender_black_data['Period'] = gender_black_data['Date'].apply(lambda x: 'Before' if x <= movement_creation_date else 'After')\n",
    "gender_black_data = gender_black_data[gender_black_data['Date'] <= datetime.datetime(2016,12,31)].reset_index(drop = True).sort_values(by='Date')\n",
    "\n",
    "fig = plt.figure(figsize=(6,6))\n",
    "ax = plot = sns.countplot(x='Gender', hue = 'Period',data=gender_black_data, palette = 'muted')\n",
    "plt.title(\"Number of Arrests of African American people w.r.t gender (Jan 2010 - Jun 2019)\", pad = 20)\n",
    "plt.ylabel('Number of Arrests', labelpad = 20)\n",
    "plt.xlabel('Gender', labelpad = 20)\n",
    "plt.show()"
   ]
  },
  {
   "cell_type": "markdown",
   "metadata": {},
   "source": [
    "Segmented regression analysis"
   ]
  },
  {
   "cell_type": "code",
   "execution_count": null,
   "metadata": {},
   "outputs": [],
   "source": [
    "female_black_data = gender_black_data[gender_black_data['Gender'] == 'F'] \\\n",
    "                    .set_index('Date') \\\n",
    "                    .replace('F', 1) \\\n",
    "                    .rename(columns = {'Gender' : 'Arrestations'}) \\\n",
    "                    .groupby(pd.Grouper(freq = 'M')).sum() \\\n",
    "                    .reset_index() \\\n",
    "                    .sort_values(by = 'Date')\n",
    "\n",
    "female_black_data_before = female_black_data[female_black_data['Date'] < datetime.datetime(2013, 8, 1)] \\\n",
    "                            .assign(Period = 'Before Female') \\\n",
    "                            .assign(Time = lambda x : x.index + 1)\n",
    "\n",
    "female_black_data_after = female_black_data[female_black_data['Date'] >= datetime.datetime(2013, 8, 1)] \\\n",
    "                            .assign(Period = 'After Female') \\\n",
    "                            .assign(Time = lambda x : x.index + 1)\n",
    "\n",
    "\n",
    "male_black_data = gender_black_data[gender_black_data['Gender'] == 'M'] \\\n",
    "                    .set_index('Date') \\\n",
    "                    .replace('M', 1) \\\n",
    "                    .rename(columns = {'Gender' : 'Arrestations'}) \\\n",
    "                    .groupby(pd.Grouper(freq = 'M')).sum() \\\n",
    "                    .reset_index() \\\n",
    "                    .sort_values(by = 'Date')\n",
    "\n",
    "male_black_data_before = male_black_data[male_black_data['Date'] < datetime.datetime(2013, 8, 1)] \\\n",
    "                            .assign(Period = 'Before Male') \\\n",
    "                            .assign(Time = lambda x : x.index + 1)\n",
    "\n",
    "male_black_data_after = male_black_data[male_black_data['Date'] >= datetime.datetime(2013, 8, 1)] \\\n",
    "                            .assign(Period = 'After Male') \\\n",
    "                            .assign(Time = lambda x : x.index + 1)"
   ]
  },
  {
   "cell_type": "code",
   "execution_count": null,
   "metadata": {},
   "outputs": [],
   "source": [
    "ax = sns.lmplot(x=\"Time\", y=\"Arrestations\", hue = \"Period\", data=pd.concat([male_black_data_before, female_black_data_before, male_black_data_after, female_black_data_after]),\n",
    "                ci=95, palette=\"bright\", height = 12)\n",
    "\n",
    "plt.subplots_adjust(top=0.9)\n",
    "ax._legend.remove()\n",
    "ax.fig.suptitle('Pre and Post July 2013 Arrestations Trends of African American people', fontsize = 14)\n",
    "ax.set_axis_labels(\"Time (Months)\", \"Total Arrestations\", fontsize = 13, labelpad = 10)\n",
    "plt.axvline(x = 43.5, color = 'red', alpha = 2, linestyle = '--')\n",
    "plt.xlim(0, 86)\n",
    "plt.ylim(500, None)\n",
    "ax.set(xticks = range(0, 92, 4))\n",
    "\n",
    "plt.legend()\n",
    "\n",
    "\n",
    "plt.show()"
   ]
  },
  {
   "cell_type": "markdown",
   "metadata": {},
   "source": [
    "Male Segmented regression"
   ]
  },
  {
   "cell_type": "code",
   "execution_count": null,
   "metadata": {},
   "outputs": [],
   "source": [
    "male_trends = pd.concat([male_black_data_before, male_black_data_after])\n",
    "male_trends['x2'] = male_trends.Period.apply(lambda x : 0 if x=='Before Male' else 1)\n",
    "male_trends['x3'] = male_trends.Time.apply(lambda x: x-43 if x>43 else 0)\n",
    "y_df = male_trends['Arrestations']\n",
    "male_trends = male_trends.drop(columns = ['Date', 'Period', 'Arrestations']).rename(columns = {'Time':'x1'})"
   ]
  },
  {
   "cell_type": "code",
   "execution_count": null,
   "metadata": {},
   "outputs": [],
   "source": [
    "X_df = male_trends\n",
    "X_df = sm.add_constant(X_df.values)\n",
    "model = sm.OLS(y_df, X_df).fit()\n",
    "model.summary()"
   ]
  },
  {
   "cell_type": "code",
   "execution_count": null,
   "metadata": {},
   "outputs": [],
   "source": [
    "female_trends = pd.concat([female_black_data_before, female_black_data_after])\n",
    "female_trends['x2'] = female_trends.Period.apply(lambda x : 0 if x=='Before Female' else 1)\n",
    "female_trends['x3'] = female_trends.Time.apply(lambda x: x-43 if x>43 else 0)\n",
    "y_df = female_trends['Arrestations']\n",
    "female_trends = female_trends.drop(columns = ['Date', 'Period', 'Arrestations']).rename(columns = {'Time':'x1'})"
   ]
  },
  {
   "cell_type": "code",
   "execution_count": null,
   "metadata": {},
   "outputs": [],
   "source": [
    "X_df = female_trends\n",
    "X_df = sm.add_constant(X_df.values)\n",
    "model = sm.OLS(y_df, X_df).fit()\n",
    "model.summary()"
   ]
  }
 ],
 "metadata": {
  "kernelspec": {
   "display_name": "Python 3",
   "language": "python",
   "name": "python3"
  },
  "language_info": {
   "codemirror_mode": {
    "name": "ipython",
    "version": 3
   },
   "file_extension": ".py",
   "mimetype": "text/x-python",
   "name": "python",
   "nbconvert_exporter": "python",
   "pygments_lexer": "ipython3",
   "version": "3.7.9"
  }
 },
 "nbformat": 4,
 "nbformat_minor": 2
}
