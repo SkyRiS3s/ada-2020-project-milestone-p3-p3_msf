{
 "cells": [
  {
   "cell_type": "markdown",
   "metadata": {},
   "source": [
    "# The effect of the _\"Black Lives Matter\"_ movement on the arrestation of African American people in L.A."
   ]
  },
  {
   "cell_type": "markdown",
   "metadata": {},
   "source": [
    "___"
   ]
  },
  {
   "cell_type": "markdown",
   "metadata": {},
   "source": [
    "### Context _(TODO)_"
   ]
  },
  {
   "cell_type": "markdown",
   "metadata": {},
   "source": [
    "In July 2013, after the acquittal of the neighborhood watch coordinator George Zimmerman in the shooting of the African American Trayvin Martin, the hashtag #BlackLivesMatter appeared for the first time on social media. This event launched the creation of the now worldwide known movement \"Black Lives Matter\" that aims to advocate against violence inflicted on Black communities.\n",
    "\n",
    "The purpose of our study is to observe the effect of the creation of the Black Lives Matter social movement on the arrests of African Americans. More specifically, we investigate if the creation of the movement induced a change in the trend of the overall arrests of African American people. The evolution of the trend of arrests of the other races is also explored as a comparison and the difference between male and female African Americans is analysed as well for complementary information."
   ]
  },
  {
   "cell_type": "markdown",
   "metadata": {},
   "source": [
    "### The data \n",
    "\n",
    "\n",
    "For our analysis, we will work on [Los Angeles Crime & Arrest Data](https://www.kaggle.com/cityofLA/los-angeles-crime-arrest-data?select=crime-data-from-2010-to-present.csv) which is provided by the City of Los Angeles. This dataset maps all the arrests that have been performed in LA between January 2010 and July 2019.\n",
    "\n",
    "This dataset contains the following main variables:\n",
    "\n",
    "- `Report ID`: ID of the arrest\n",
    "- `Arrest date`: date of the arrest\n",
    "- `Time`: an integer with the time of the arrest in 24 hour\n",
    "- `Area ID`: refers to the geographic areas within the department\n",
    "- `Area Name`: a string with the name of the area\n",
    "- `Reporting District`: an integer that represents a sub-area within the geographic area\n",
    "- `Age`: integer for the age of the arrested person\n",
    "- `Sex code`: a string with F for Female and M for Male\n",
    "- `Descent Code`: a string for each origin (among them, W stands for white, B for black, H for Hispanic/Latin/Mexican and O for other) \n",
    "- `Charge Group Code`: an integer corresponding to a category of arrest charge\n",
    "\n",
    "Other variables are also present but will not be studied in the analysis:\n",
    "\n",
    "- `Charge Group Code`\n",
    "- `Charge Group Description`\n",
    "- `Arrest Type Code`\n",
    "- `Charge`\n",
    "- `Charge Description`\n",
    "- `Address`\n",
    "- `Cross Street`\n",
    "- `Location`\n",
    "- `Zip Codes`\n",
    "- `Census Tracts`\n",
    "- `Precinct Boundaries`\n",
    "- `LA Specific Plans`\n",
    "- `Council Districts`\n",
    "- `Neighborhood Councils (Certified`\n",
    "\n"
   ]
  },
  {
   "cell_type": "markdown",
   "metadata": {},
   "source": [
    "___"
   ]
  },
  {
   "cell_type": "markdown",
   "metadata": {},
   "source": [
    "## Data wrangling"
   ]
  },
  {
   "cell_type": "code",
   "execution_count": null,
   "metadata": {},
   "outputs": [],
   "source": [
    "import pandas as pd\n",
    "%matplotlib inline\n",
    "import matplotlib.pyplot as plt\n",
    "import seaborn as sns\n",
    "import datetime\n",
    "import statsmodels.api as sm\n",
    "import pylab\n",
    "from scipy import stats\n",
    "from matplotlib.lines import Line2D\n",
    "from statsmodels.graphics.gofplots import qqplot\n",
    "\n",
    "arrest_data = pd.read_csv('arrest-data-from-2010-to-present.csv', error_bad_lines = False)"
   ]
  },
  {
   "cell_type": "markdown",
   "metadata": {},
   "source": [
    "Now that we've loaded our data, let's have a sneak peek at our dataframe."
   ]
  },
  {
   "cell_type": "code",
   "execution_count": null,
   "metadata": {},
   "outputs": [],
   "source": [
    "arrest_data.head()"
   ]
  },
  {
   "cell_type": "markdown",
   "metadata": {},
   "source": [
    "For our analysis, it is not important to keep all columns. Only the ones regarding the race, the date of the arrest, the gender and the type of arrest (i.e. infraction or felony) are of interest to us."
   ]
  },
  {
   "cell_type": "code",
   "execution_count": null,
   "metadata": {
    "scrolled": true
   },
   "outputs": [],
   "source": [
    "#Picking the necessary columns and renaming them\n",
    "arrest_data = arrest_data[['Arrest Date', 'Sex Code', 'Descent Code', 'Arrest Type Code']] \\\n",
    "                .rename(columns = {'Arrest Date' : 'Date', 'Sex Code': 'Gender', 'Descent Code': 'Race', \n",
    "                                   'Arrest Type Code': 'Arrest Type'})\n",
    "\n",
    "#Converting dates to DateTime objects\n",
    "arrest_data['Date'] = pd.to_datetime(arrest_data['Date'], errors='coerce')\n",
    "\n",
    "#Verifying that no date is 'NaT' (Not a Time)\n",
    "assert(arrest_data.Date.isnull().sum() == 0)\n",
    "\n",
    "#Sanity checks\n",
    "assert(datetime.datetime(2010,1,1) == min(arrest_data.Date))\n",
    "assert(datetime.datetime(2019,6,22) == max(arrest_data.Date))\n",
    "\n",
    "arrest_data.head()"
   ]
  },
  {
   "cell_type": "markdown",
   "metadata": {},
   "source": [
    "As we observe further below, the 4 most present races are:\n",
    "- `H` for Hispanic/Latin/Mexican\n",
    "- `B` for Black\n",
    "- `W` for White\n",
    "- `O` for Other"
   ]
  },
  {
   "cell_type": "markdown",
   "metadata": {},
   "source": [
    "___"
   ]
  },
  {
   "cell_type": "markdown",
   "metadata": {},
   "source": [
    "## Question 1\n",
    "\n",
    "### _Since the creation of the Black Lives Matter movement, was there a change in the trend of the overall arrests of African American people in L.A. ?_"
   ]
  },
  {
   "cell_type": "markdown",
   "metadata": {},
   "source": [
    "### 1.1. Differences between the races"
   ]
  },
  {
   "cell_type": "markdown",
   "metadata": {},
   "source": [
    "Let's start by looking at the number of arrests per race, just to get an idea of what this looks like."
   ]
  },
  {
   "cell_type": "code",
   "execution_count": null,
   "metadata": {
    "scrolled": false
   },
   "outputs": [],
   "source": [
    "race_data = arrest_data[['Date', 'Race']] ############est ce qu'on a vraiment besoin de ce dataframe ?\n",
    "\n",
    "fig = plt.figure(figsize = (8,9))\n",
    "plot = sns.countplot(x = 'Race', data = arrest_data, palette = 'bright')\n",
    "plt.title(\"Number of Arrests in L.A. w.r.t Race\", pad = 20)\n",
    "plt.ylabel('Number of Arrests', labelpad = 20)\n",
    "plt.xlabel('Race', labelpad = 20)\n",
    "plt.show()\n",
    "\n",
    "#Getting count for each race that has a high number of arrests (> 5%)\n",
    "counts = arrest_data.Race.value_counts()\n",
    "black_counts = counts['B'] #################Vraiment besoin de créer ces variables ?\n",
    "hispanic_counts = counts['H']\n",
    "white_counts = counts['W']\n",
    "others_counts = counts['O']\n",
    "\n",
    "print('Number of White people arrested (2010-2019) : ' + str(white_counts))\n",
    "print('Percentage of total number of arrests: ' + str(round(white_counts/len(arrest_data)*100,3)) + \"%\\n\")\n",
    "print('Number of Others people arrested (2010-2019) : ' + str(others_counts))\n",
    "print('Percentage of total number of arrests: ' + str(round(others_counts/len(arrest_data)*100,3)) + \"%\\n\")\n",
    "print('Number of Hispanic people arrested (2010-2019) : ' + str(hispanic_counts))\n",
    "print('Percentage of total number of arrests: ' + str(round(hispanic_counts/len(arrest_data)*100,3)) + \"%\\n\")\n",
    "print('Number of Black people arrested (2010-2019) :  ' + str(black_counts))\n",
    "print('Percentage of total number of arrests: ' + str(round(black_counts/len(arrest_data)*100,3)) + \"%\\n\")"
   ]
  },
  {
   "cell_type": "markdown",
   "metadata": {},
   "source": [
    "We can already see that there is quite a decrepency in the number of arrests with respect to the race.\n",
    "\n",
    "Yet, the observed difference in the number of arrest per race could be due to the difference in the number of people of different race living in L.A. To asses this, we scale the data for the 3 main races (White, Black and Hispanic/Latin/Mexican) with respect to the race ratios in the population.\n",
    "\n",
    "The actual race ratios in L.A. are the following:\n",
    "- 28.5% of White\n",
    "- 48.5% of Hispanic\n",
    "- 8.9% of Black\n",
    "\n",
    "We make the assumption that these ratios were approximately the same during the period we are analysing.\n",
    "\n",
    "_Data are exctracted from the_ [US Census Bureau](https://www.census.gov/quickfacts/fact/table/US/PST045219_)."
   ]
  },
  {
   "cell_type": "code",
   "execution_count": null,
   "metadata": {},
   "outputs": [],
   "source": [
    "ratios = [28.5, 48.5, 8.9]\n",
    "scaled_counts = pd.DataFrame(counts[['W', 'H', 'B']] / ratios).rename(columns = {'Race':'Counts'})\n",
    "\n",
    "fig = plt.figure(figsize = (8,9))\n",
    "plot = sns.barplot(x = scaled_counts.index, y = 'Counts', data = scaled_counts, palette = 'bright')\n",
    "plt.title(\"Scaled Number of Arrests in L.A. w.r.t Race\", pad = 20)\n",
    "plt.ylabel('Number of Arrests relaltive to race ratio in pop', labelpad = 20)\n",
    "plt.xlabel('Race', labelpad = 20)\n",
    "plt.show()\n",
    "\n",
    "HW_ratio = scaled_counts.loc['H','Counts']/scaled_counts.loc['W','Counts']\n",
    "BW_ratio = scaled_counts.loc['B','Counts']/scaled_counts.loc['W','Counts']\n",
    "print(\"Hispanic people are arrested \" + str(round(HW_ratio, 3)) + \" more than white people.\")\n",
    "print(\"Black people are arrested \" + str(round(BW_ratio, 3)) + \" more than white people.\")"
   ]
  },
  {
   "cell_type": "markdown",
   "metadata": {},
   "source": [
    "These normalized values are not relevant in themselves as they are not meaningfull, but the comparison between them is highly relevant.\n",
    "\n",
    "We can now say that hispanic people are more arrested than white people but mostly that black people are highly more arrested, almost 5 times more. This could be because of the uneven repartition of the races within the different social classes or because of a discrimination towards hispanic and mostly black people."
   ]
  },
  {
   "cell_type": "markdown",
   "metadata": {},
   "source": [
    "### 1.2. Non-model empirical findings: Average African American arrests before and after July 2013"
   ]
  },
  {
   "cell_type": "markdown",
   "metadata": {},
   "source": [
    "Now, let's look at how the creation of the Black Lives Matter movement affected the number of arrests for Black people. We start by looking at \"non-model\" empirical findings, comparing the number of African Americans arrested before and after July, 2013 (from January 2010 to December 2016, i.e. 3.5 years before and after the creation of the black lives matter)."
   ]
  },
  {
   "cell_type": "code",
   "execution_count": null,
   "metadata": {},
   "outputs": [],
   "source": [
    "black_data = race_data[race_data['Race'] == 'B']\n",
    "movement_creation_date = datetime.datetime(2013, 8, 1)\n",
    "black_before_movement = black_data[black_data['Date'] < movement_creation_date].assign(Period = \"Before\")\n",
    "black_after_movement = black_data[(black_data['Date'] >= movement_creation_date) & \n",
    "                                  (black_data['Date'] <= datetime.datetime(2016,12,31))].assign(Period = \"After\")\n",
    "\n",
    "fig = plt.figure(figsize=(6,6))\n",
    "ax = plot = sns.countplot(x='Period', data= pd.concat([black_before_movement, black_after_movement]), palette = 'bright')\n",
    "plt.title(\"Number of Arrests of African American people before and after the creation of Black Lives Matter\", pad = 20)\n",
    "plt.ylabel('Number of Arrests', labelpad = 20)\n",
    "plt.xlabel('Period', labelpad = 20)\n",
    "plt.show()\n"
   ]
  },
  {
   "cell_type": "markdown",
   "metadata": {},
   "source": [
    "At first glance, it would seem that the creation of the Black Lives Matter movement had a clear impact on the number of arrests of people of African American descent.  "
   ]
  },
  {
   "cell_type": "code",
   "execution_count": null,
   "metadata": {},
   "outputs": [],
   "source": [
    "print('Number of Arrests Before : ' + str(len(black_before_movement)))\n",
    "print('Number of Arrests After  : ' + str(len(black_after_movement)))\n",
    "print('Decrease percentage : ' + str(round((len(black_before_movement)- len(black_after_movement))/len(black_before_movement)*100,2)) + \"%\")"
   ]
  },
  {
   "cell_type": "markdown",
   "metadata": {},
   "source": [
    "Indeed, we can observe a  reduction of 37'651 arrests that corresponds approximately to a drop of 22.86% in the arrests of African American after July 2013.\n",
    "\n",
    "We further investigate this difference by performing a statistical test between the monthly arrest means, before and after July 2013. Before performing any test we first check the normality of the two distributions (monthly arrest of black people, before and after July 2013)."
   ]
  },
  {
   "cell_type": "code",
   "execution_count": null,
   "metadata": {},
   "outputs": [],
   "source": [
    "#Definition of the 2 distributions\n",
    "black_trends_before = black_before_movement.set_index('Date') \\\n",
    "                        .replace('B', 1) \\\n",
    "                        .rename(columns = {'Race' : 'Arrestations'}) \\\n",
    "                        .groupby(pd.Grouper(freq = 'M')).sum() \\\n",
    "                        .assign(Period = 'Before')\n",
    "\n",
    "black_trends_after = black_after_movement.set_index('Date') \\\n",
    "                        .replace('B', 1) \\\n",
    "                        .rename(columns = {'Race' : 'Arrestations'}) \\\n",
    "                        .groupby(pd.Grouper(freq = 'M')).sum() \\\n",
    "                        .assign(Period = 'After')"
   ]
  },
  {
   "cell_type": "markdown",
   "metadata": {},
   "source": [
    "**Remark:** Here, we aggregate the data on a monthly basis and add a variable `Period` used to discriminate between the arrests that happened before July 2013 and the ones that happened after July 2013."
   ]
  },
  {
   "cell_type": "code",
   "execution_count": null,
   "metadata": {},
   "outputs": [],
   "source": [
    "def checking_normality_variance(df_before, df_after, race):\n",
    "    fig, ax = plt.subplots(figsize=(9,6))\n",
    "    qqplot(df_before[\"Arrestations\"], line = 's', ax = ax, color = 'firebrick', label = 'Before July 2013')\n",
    "    plt.title(\"Q-Q Plot of the distribution of \" + race + \" arrests before July 2013\")\n",
    "    plt.legend()\n",
    "    plt.show()\n",
    "    \n",
    "    fig, ax = plt.subplots(figsize=(9,6))\n",
    "    qqplot(df_after[\"Arrestations\"], line = 's', ax = ax, color = 'firebrick', label = 'After July 2013')\n",
    "    plt.title(\"Q-Q Plot of the distribution of \" + race + \" arrests after July 2013\")\n",
    "    plt.legend()\n",
    "    plt.show()\n",
    "    \n",
    "    print(\"Variance of the arrests distribution before July 2013: %.3f\" %df_before.var())\n",
    "    print(\"Variance of the arrests distribution after July 2013: %.3f \" %df_after.var())"
   ]
  },
  {
   "cell_type": "code",
   "execution_count": null,
   "metadata": {},
   "outputs": [],
   "source": [
    "checking_normality_variance(black_trends_before, black_trends_after, 'Black')"
   ]
  },
  {
   "cell_type": "markdown",
   "metadata": {},
   "source": [
    "Looking at the Q-Q plot, both distributions (before and after July 2013) seem to be normal. "
   ]
  },
  {
   "cell_type": "markdown",
   "metadata": {},
   "source": [
    "The variances are not exactly equal (it was indeed highly improbable). \n",
    "\n",
    "Since our distributions are normally distributed but the variances are unequal, we will perform a Welch's t-test to compare the means of the two distributions.\n",
    "\n",
    "We test the following hypothesis:\n",
    "\n",
    "- Null hypothesis: $(H_0)$ : $\\mu_1$ = $\\mu_2$ (the means of both samples are equal)\n",
    "- Alternative hypothesis: $(H_A)$: $\\mu_1\\neq \\mu_2$ (the mean of sample 1 is not equal to the mean of sample 2).\n"
   ]
  },
  {
   "cell_type": "code",
   "execution_count": null,
   "metadata": {},
   "outputs": [],
   "source": [
    "display(stats.ttest_ind(black_trends_before['Arrestations'], black_trends_after['Arrestations'], equal_var = False))"
   ]
  },
  {
   "cell_type": "markdown",
   "metadata": {},
   "source": [
    "Since the p-value is very small (smaller than 0.05), we can reject the null hypothesis being that the average monthly arrests are equal before and after the apparition of the Black Lives Matter movement.\n",
    "\n",
    "Thus we can conclude that there is indeed a significant diminution of African American arrests after July 2013."
   ]
  },
  {
   "cell_type": "markdown",
   "metadata": {},
   "source": [
    "### 1.3. Segmented regression analysis"
   ]
  },
  {
   "cell_type": "markdown",
   "metadata": {},
   "source": [
    "To better analyse the arrests trends per month, a model-based empirical analysis is required. To do so, a segmented regression analysis is performed. We will perform the segmented regression of the data obtained with July 2013 (date of the creation of the Black Lives Matter movement) as the \"interruption\" element."
   ]
  },
  {
   "cell_type": "markdown",
   "metadata": {},
   "source": [
    "#### Regression analysis visualization"
   ]
  },
  {
   "cell_type": "markdown",
   "metadata": {},
   "source": [
    "We will start by visualizing this regression analysis."
   ]
  },
  {
   "cell_type": "code",
   "execution_count": null,
   "metadata": {},
   "outputs": [],
   "source": [
    "black_trends = pd.concat([black_trends_before, black_trends_after]).reset_index(drop = True)\n",
    "black_trends['Time'] = black_trends.index + 1"
   ]
  },
  {
   "cell_type": "markdown",
   "metadata": {},
   "source": [
    "**Remark :** The first step is to prepare the dataset that will be used for the visualization. We use the above created dataframes (`black_trends_before` and `balck_trends_after`) that contains the number of arrests of African Americans aggregated by months and the parameter `Period`, used to label the data (to distinguish between arrests before and after July 2013)."
   ]
  },
  {
   "cell_type": "code",
   "execution_count": null,
   "metadata": {
    "scrolled": false
   },
   "outputs": [],
   "source": [
    "#Showing the results of the segmented linear regression\n",
    "ax = sns.lmplot(x=\"Time\", y=\"Arrestations\", hue = \"Period\", data=black_trends, ci=95, palette=\"bright\", height = 12)\n",
    "ax._legend.remove()\n",
    "plt.subplots_adjust(top=0.9)\n",
    "ax.fig.suptitle('Pre and Post July 2013 Arrestations Trends of African American people', fontsize = 14)\n",
    "ax.set_axis_labels(\"Time (Months)\", \"Total Arrestations\", fontsize = 13, labelpad = 10)\n",
    "plt.axvline(x = 43.5, color = 'red', alpha = 2, linestyle = '--')\n",
    "plt.xlim(0, 86)\n",
    "plt.ylim(2200, None)\n",
    "ax.set(xticks = range(0, 92, 4))\n",
    "\n",
    "#Constructing the legend\n",
    "legend_elements = [Line2D([0], [0], marker='o', color='w', label='Total Arrestations by month (Before)', markerfacecolor='blue', markersize=7.5),\n",
    "                   Line2D([0], [0], marker='o', color='w', label='Total Arrestations by month (After)', markerfacecolor='darkorange', markersize=7.5),\n",
    "                   Line2D([0], [0], color='blue', label = \"Trend Pre-July 2013\"), \n",
    "                   Line2D([0], [0], color='darkorange', label = \"Trend Post-July 2013\"), \n",
    "                   Line2D([0], [0], color='red', linestyle = '--', alpha = 2 , label = \"Mid July 2013 - Creation of Black Lives Matter\")]\n",
    "\n",
    "plt.legend(handles=legend_elements)\n",
    "\n",
    "\n",
    "plt.show()"
   ]
  },
  {
   "cell_type": "markdown",
   "metadata": {},
   "source": [
    "This graph includes the trend of the results of the regression analysis and a scatter plot of the data.\n",
    "\n",
    "In this graph, one can observe a large and immediate drop in the number of arrests right after the creation of the movement. A large difference in the trend of the data can also be observed. From these observations it seems that the creation of the Black Lives Matter movement affected the trend of arrestations of African Americans in L.A..\n",
    "\n",
    "Let's support these findings with numerical results."
   ]
  },
  {
   "cell_type": "markdown",
   "metadata": {},
   "source": [
    "#### Numerical Segmented regression"
   ]
  },
  {
   "cell_type": "markdown",
   "metadata": {},
   "source": [
    "The equation of a segment regression analysis can be seen as follow:\n",
    "\n",
    "$Y_{t} = \\beta_{0} + \\beta_{1}\\times time + \\beta_{2}\\times intervention +  \\beta_{3}\\times postslope + \\epsilon_{1}^{111}  $ \n",
    "\n",
    "In our case, the varialbe $Y_{t}$ is the monthly aggregate of the arrests of African American people. \n",
    "\n",
    "Let's clarify the meaning of the parameters in the above-mentioned equation:\n",
    "\n",
    "- $\\beta_{0}$ represents the baseline level of $Y_t$ at the beginning of the study (meaning, the total number of arrests during the first month)\n",
    "- $\\beta_{1}$ represents the slope of the trend independently from the intervention event (meaning the growh rate of the arrests of African Americans independently from the creation of Black Lives Matter)\n",
    "- $\\beta_{2}$ represents the change in the number of arrests; it measures and represents the effect of the intervention event (i.e. the Black Lives Matter creation)\n",
    "- $\\beta_{3}$ represents the change in the overall trend after the event. It is used to assess whether there is a raise or a decline in the number of arrests of African Americans\n",
    "\n"
   ]
  },
  {
   "cell_type": "code",
   "execution_count": null,
   "metadata": {},
   "outputs": [],
   "source": [
    "def segmented_regression(df):\n",
    "    data_regression = df.copy()\n",
    "    data_regression['x2'] = data_regression['Period'].apply(lambda x : 0 if x == 'Before' else 1)\n",
    "    data_regression['x3'] = data_regression['Time'].apply(lambda x : x-43 if x>43 else 0)\n",
    "    y_df = data_regression['Arrestations']\n",
    "    data_regression = data_regression.drop(columns = ['Arrestations','Period']).rename(columns = {'Time':'x1'})\n",
    "\n",
    "    X_df = data_regression\n",
    "    X_df = sm.add_constant(X_df.values)\n",
    "    model = sm.OLS(y_df, X_df).fit()\n",
    "    display(model.summary(xname = [\"intercept\",\"time\", \"intervention\", \"postslope\"]))"
   ]
  },
  {
   "cell_type": "markdown",
   "metadata": {},
   "source": [
    "**Remark:** We define a function `segmented_regression` to perform the semgented regression in a more automatized way. The function starts by creating the table used for the regression. The table contains the three variables that are needed to perform the segmented regression analysis that follows the equation presented above. In our case, the column `x1` of the dataframe corresponds to the variable $\\text{time}$ of the equation, the column `x2` corresponds to the variable $\\text{intervention}$ and the column `x3` corresponds to the variable $\\text{postslope}$. Once the table is formed, the function fits the regression model and displays the summary of the regression."
   ]
  },
  {
   "cell_type": "code",
   "execution_count": null,
   "metadata": {},
   "outputs": [],
   "source": [
    "segmented_regression(black_trends)"
   ]
  },
  {
   "cell_type": "markdown",
   "metadata": {},
   "source": [
    "When analyzing this regression table, one can observe that all p-values are smaller than 0.05, proving a significant importance of these variables. Most importantly, the variable `intervention` has a p-value at 0.000, showing that the intervention has a significant effect. One can also notice the difference in the coefficient of the variables `time` and `postslope` (respectively at 7.4049 and -25.5202). These data reinforce what has been visualized in the above graph: before July 2013, the number of arrests of African Americans was increasing each month; after July 2013, the number of arrests is decreasing each months. The intervention event in July 2013 has therefore given rise to a change in the tendency of the arrests of African American people in L.A.."
   ]
  },
  {
   "cell_type": "markdown",
   "metadata": {},
   "source": [
    "---"
   ]
  },
  {
   "cell_type": "markdown",
   "metadata": {},
   "source": [
    "## Question 2\n",
    "\n",
    "### _How does the evolution of the trend of arrests of the other races differ from those of the African Americans ?_"
   ]
  },
  {
   "cell_type": "markdown",
   "metadata": {},
   "source": [
    "In the first part of our analysis, we found a decrease in the overall number of arrests of African Americans after July 2013, date of the creation of the Black Lives Matter movement. To ensure that this reduction is linked with this disruptive event, a control group should be added to the analysis. \n",
    "\n",
    "We will study the impact of the intervention event on the arrests of White and Hispanic people (the two other races with the most arrests). "
   ]
  },
  {
   "cell_type": "markdown",
   "metadata": {},
   "source": [
    "### 2.1. Evolution of white people arrests"
   ]
  },
  {
   "cell_type": "markdown",
   "metadata": {},
   "source": [
    "#### 2.1.1. Non-model empirical findings"
   ]
  },
  {
   "cell_type": "markdown",
   "metadata": {},
   "source": [
    "As for the analysis of African Americans, we begin with a non-model analysis.\n",
    "\n",
    "Let's start by preparing the data to analyse the arrestations of white people."
   ]
  },
  {
   "cell_type": "code",
   "execution_count": null,
   "metadata": {},
   "outputs": [],
   "source": [
    "white_data = race_data[race_data['Race'] == 'W']\n",
    "white_before_movement = white_data[white_data['Date'] < movement_creation_date].assign(Period = \"Before\")\n",
    "white_after_movement = white_data[(white_data['Date'] >= movement_creation_date) & \n",
    "                                  (white_data['Date'] <= datetime.datetime(2016,12,31))].assign(Period = \"After\")\n",
    "\n",
    "fig = plt.figure(figsize=(6,6))\n",
    "ax = plot = sns.countplot(x='Period', data= pd.concat([white_before_movement, white_after_movement]), palette = 'bright')\n",
    "plt.title(\"Number of Arrests of White people before and after the creation of Black Lives Matter\", pad = 20)\n",
    "plt.ylabel('Number of Arrests', labelpad = 20)\n",
    "plt.xlabel('Period', labelpad = 20)\n",
    "plt.show()"
   ]
  },
  {
   "cell_type": "code",
   "execution_count": null,
   "metadata": {
    "scrolled": true
   },
   "outputs": [],
   "source": [
    "print('Number of Arrests Before : ' + str(len(white_before_movement)))\n",
    "print('Number of Arrests After  : ' + str(len(white_after_movement)))\n",
    "print('Decrease percentage : ' + str(round((len(white_before_movement)- len(white_after_movement))/len(white_before_movement)*100,2)) + \"%\")"
   ]
  },
  {
   "cell_type": "markdown",
   "metadata": {},
   "source": [
    "One can observe a similar decrease in the number of arrests. Let's support this observation with a statistical comparison of means. We first need to assess that the data obtained are normally distributed and check if they have equal variance."
   ]
  },
  {
   "cell_type": "code",
   "execution_count": null,
   "metadata": {},
   "outputs": [],
   "source": [
    "white_trends_before = white_before_movement.set_index('Date') \\\n",
    "                        .replace('W', 1) \\\n",
    "                        .rename(columns = {'Race' : 'Arrestations'}) \\\n",
    "                        .groupby(pd.Grouper(freq = 'M')).sum() \\\n",
    "                        .assign(Period = 'Before')\n",
    "\n",
    "white_trends_after = white_after_movement.set_index('Date') \\\n",
    "                        .replace('W', 1) \\\n",
    "                        .rename(columns = {'Race' : 'Arrestations'}) \\\n",
    "                        .groupby(pd.Grouper(freq = 'M')).sum() \\\n",
    "                        .assign(Period = 'After')"
   ]
  },
  {
   "cell_type": "markdown",
   "metadata": {},
   "source": [
    "**Remark:** Here, the number of arrests of White people are aggregated by months. A label (represented by the variable `Period`) is also added to discriminate between the arrestations that occured before July 2013 and the ones that occured after July 2013. "
   ]
  },
  {
   "cell_type": "code",
   "execution_count": null,
   "metadata": {},
   "outputs": [],
   "source": [
    "checking_normality_variance(white_trends_before, white_trends_after, 'White')"
   ]
  },
  {
   "cell_type": "markdown",
   "metadata": {},
   "source": [
    "One can observe in the QQ-plot presented above that both group seems to follow a normal distribution (there is a small deviation at the tails but it does not appear to be a large violation). \n",
    "\n",
    "When comparing the variance of both groups, we can observe a significant difference. \n",
    "\n",
    "Since the equality of variance is not respected, the student t-test can not be performed to compare the means of both groups. The Welch's t-test is therefore used, with the same hypothesis that have been presented above. "
   ]
  },
  {
   "cell_type": "code",
   "execution_count": null,
   "metadata": {},
   "outputs": [],
   "source": [
    "stats.ttest_ind(white_trends_before['Arrestations'], white_trends_after['Arrestations'], equal_var = False)"
   ]
  },
  {
   "cell_type": "markdown",
   "metadata": {},
   "source": [
    "The p-value is less than 0.05 and therefore we reject the null hypothesis. We can then affirm that the mean arrests of white people before July 2013 is statistically different from the mean arrests after July 2013. "
   ]
  },
  {
   "cell_type": "markdown",
   "metadata": {},
   "source": [
    "#### 2.1.2. Regression analysis visualization"
   ]
  },
  {
   "cell_type": "markdown",
   "metadata": {},
   "source": [
    "Let's visualize the regression analysis to have a better insight."
   ]
  },
  {
   "cell_type": "code",
   "execution_count": null,
   "metadata": {},
   "outputs": [],
   "source": [
    "white_trends = pd.concat([white_trends_before, white_trends_after]).reset_index(drop = True)\n",
    "white_trends['Time'] = white_trends.index + 1"
   ]
  },
  {
   "cell_type": "markdown",
   "metadata": {},
   "source": [
    "**Remark:** To plot the regression, we create a dataset that contains the arrests of both black and white people. A `label_values` function is defined to set labels to the obtained data. It will be used to discriminate between arrests of white and black people, before and after July 2013."
   ]
  },
  {
   "cell_type": "code",
   "execution_count": null,
   "metadata": {},
   "outputs": [],
   "source": [
    "def label_values(x):\n",
    "    if x <= 42:\n",
    "        return 'Trend of black arrests before July 2013'\n",
    "    elif x <= 83:\n",
    "        return 'Trend of black arrests after July 2013'\n",
    "    elif x <= 126:\n",
    "        return 'Trend of white arrests before July 2013'\n",
    "    else:\n",
    "        return 'Trend of white arrests after July 2013'"
   ]
  },
  {
   "cell_type": "code",
   "execution_count": null,
   "metadata": {},
   "outputs": [],
   "source": [
    "w_b_trends = black_trends.copy()\n",
    "w_b_trends = w_b_trends.append(white_trends)\n",
    "w_b_trends.reset_index(inplace = True)\n",
    "\n",
    "#Defining the labels\n",
    "w_b_trends['Label'] = w_b_trends.index.values\n",
    "w_b_trends['Label'] = w_b_trends['Label'].apply(label_values)"
   ]
  },
  {
   "cell_type": "code",
   "execution_count": null,
   "metadata": {},
   "outputs": [],
   "source": [
    "def plot_control_regression(df, race):\n",
    "    ax = sns.lmplot(x=\"Time\", y=\"Arrestations\", hue = \"Label\", data=df, ci=95, palette=\"bright\", height = 12)\n",
    "    ax._legend.remove()\n",
    "    plt.subplots_adjust(top=0.9)\n",
    "    ax.fig.suptitle('Pre and Post July 2013 Arrestations Trends of African American and White people', fontsize = 14)\n",
    "    ax.set_axis_labels(\"Time (Months)\", \"Total Arrestations\", fontsize = 13, labelpad = 10)\n",
    "    plt.axvline(x = 43.5, color = 'red', alpha = 2, linestyle = '--')\n",
    "    plt.xlim(0, 86)\n",
    "    plt.ylim(1000, None)\n",
    "    ax.set(xticks = range(0, 92, 4))\n",
    "\n",
    "    #Constructing the legend\n",
    "    legend_elements = [Line2D([0], [0], marker='o', color='w', label='Total Arrestations of Black people by month (Before)', markerfacecolor='blue', markersize=7.5),\n",
    "                       Line2D([0], [0], marker='o', color='w', label='Total Arrestations of Black people month (After)', markerfacecolor='darkorange', markersize=7.5),\n",
    "                       Line2D([0], [0], marker='o', color='w', label='Total Arrestations of ' + race + ' people by month (Before)', markerfacecolor='green', markersize=7.5),\n",
    "                       Line2D([0], [0], marker='o', color='w', label='Total Arrestations of ' + race + ' people by month (After)', markerfacecolor='red', markersize=7.5),\n",
    "                       Line2D([0], [0], color='blue', label = \"Trend of Black Arrests Pre-June 2013\"), \n",
    "                       Line2D([0], [0], color='darkorange', label = \"Trend of Black Arrests Post-June 2013\"), \n",
    "                       Line2D([0], [0], color='green', label = 'Trend of ' + race + ' Arrests Pre-June 2013'), \n",
    "                       Line2D([0], [0], color='red', label = 'Trend of ' + race + ' Arrests Post-June 2013'), \n",
    "                       Line2D([0], [0], color='red', linestyle = '--', alpha = 2 , label = \"Mid July 2013 - Creation of Black Lives Matter\")]\n",
    "\n",
    "    plt.legend(handles=legend_elements)\n",
    "\n",
    "\n",
    "    plt.show()\n",
    "    "
   ]
  },
  {
   "cell_type": "code",
   "execution_count": null,
   "metadata": {},
   "outputs": [],
   "source": [
    "plot_control_regression(w_b_trends, 'White')"
   ]
  },
  {
   "cell_type": "markdown",
   "metadata": {},
   "source": [
    "As before, the graph of the segmented regression analysis includes the trend of the results of the analysis and a scatter plot of the data. This graph represents the trend of arrests of Black people and the trend of arrests of White people.\n",
    "\n",
    "In this graph, one can observe a similar trend for the arrest of white and black people after July 2013. These findings are unconsistents with our hypothesis. Indeed, the Black Lives Matter movement aims at eradicating white supremacy. Thus, the creation of the movement should not influence the arrestation trend of white people. \n",
    "\n",
    "Before concluding, let's perform a numerical segmented regression."
   ]
  },
  {
   "cell_type": "markdown",
   "metadata": {},
   "source": [
    "#### 2.1.3. Numerical Segmented regression"
   ]
  },
  {
   "cell_type": "markdown",
   "metadata": {},
   "source": [
    "Here, we apply a similar method to the one used to perform the numerical segment regression for black people arrests."
   ]
  },
  {
   "cell_type": "code",
   "execution_count": null,
   "metadata": {},
   "outputs": [],
   "source": [
    "segmented_regression(white_trends)"
   ]
  },
  {
   "cell_type": "markdown",
   "metadata": {},
   "source": [
    "These results show also a reduction in the trend of arrests of white people after July 2013. Indeed, one can observe that all p-values are smaller than 0.05, proving a significant importance of these variables. The variable `intervention` has a p-value at 0.008, showing that the intervention has a significant effect. The coefficient of the variables `time` and `postslope` are also of interest: they are respectively at 5.2934 and at -22.9277, reinforcing the graphical observations. \n",
    "\n",
    "These findings are quite unexpected. Indeed, as presented earlier, the creation of the Black Lives Matter movement should not impact so much the arrests of White people. Whith a closer look on the political history of L.A. we found that in July 2013, Eric Marcetti began his term as L.A. mayer. Mayor Garcetti aimed at making L.A. a safer place. This could explain the overall decrease in arrestations (across all races) after July 2013."
   ]
  },
  {
   "cell_type": "markdown",
   "metadata": {},
   "source": [
    "----"
   ]
  },
  {
   "cell_type": "markdown",
   "metadata": {},
   "source": [
    "### 2.2 Hispanics as a control group"
   ]
  },
  {
   "cell_type": "markdown",
   "metadata": {},
   "source": [
    "We will now study the effect of the creation of Black Lives Matter movement on the arrestations of hispanic people."
   ]
  },
  {
   "cell_type": "markdown",
   "metadata": {},
   "source": [
    "#### 2.2.1. Non-model empirical findings"
   ]
  },
  {
   "cell_type": "markdown",
   "metadata": {},
   "source": [
    "We also want to analyse the evolution of hispanic arrest as it could be either a control group or a population that has been positively impacted by the creation of the movement.\n",
    "\n",
    "Like before, we first look at the number of arrests before and after July 2013."
   ]
  },
  {
   "cell_type": "code",
   "execution_count": null,
   "metadata": {},
   "outputs": [],
   "source": [
    "hispanic_data = race_data[race_data['Race'] == 'H']\n",
    "hispanic_before_movement = hispanic_data[hispanic_data['Date'] < movement_creation_date].assign(Period = \"Before\")\n",
    "hispanic_after_movement = hispanic_data[(hispanic_data['Date'] >= movement_creation_date) & \n",
    "                                  (hispanic_data['Date'] <= datetime.datetime(2016,12,31))].assign(Period = \"After\")\n",
    "\n",
    "fig = plt.figure(figsize=(6,6))\n",
    "ax = plot = sns.countplot(x='Period', data= pd.concat([hispanic_before_movement, hispanic_after_movement]), palette = 'bright')\n",
    "plt.title(\"Number of Arrests of Hispanic people before and after the creation of Black Lives Matter\", pad = 20)\n",
    "plt.ylabel('Number of Arrests', labelpad = 20)\n",
    "plt.xlabel('Period', labelpad = 20)\n",
    "plt.show()"
   ]
  },
  {
   "cell_type": "markdown",
   "metadata": {},
   "source": [
    "One can observe with this barplot a decrease in the number of arrests of Hispanics after July 2013.\n",
    "\n",
    "Once again, let's assess if there is a significant decrease. We begin by checking the normality and equality of variance to perform a statistical comparison of means."
   ]
  },
  {
   "cell_type": "code",
   "execution_count": null,
   "metadata": {},
   "outputs": [],
   "source": [
    "checking_normality_variance(hispanic_trends_before, hispanic_trends_after, 'Hispanic')"
   ]
  },
  {
   "cell_type": "markdown",
   "metadata": {},
   "source": [
    "In the above graphs, we can observe that our groups are normally distributed. Also, the variance seem to be equal. We can therefore use the Student t-test to compare the two means. The Student t-test has the same hypothesis as the Welch's t-test:\n",
    "\n",
    "- Null hypothesis: $(H_0)$ : $\\mu_1$ = $\\mu_2$ (the means of both samples are equal)\n",
    "- Alternative hypothesis: $(H_A)$: $\\mu_1\\neq \\mu_2$ (the mean of sample 1 is not equal to the mean of sample 2).\n"
   ]
  },
  {
   "cell_type": "code",
   "execution_count": null,
   "metadata": {},
   "outputs": [],
   "source": [
    "stats.ttest_ind(white_trends_before['Arrestations'], white_trends_after['Arrestations'], equal_var = True)"
   ]
  },
  {
   "cell_type": "markdown",
   "metadata": {},
   "source": [
    "Here, we find a p-value that is lower thant 0.05. We can therefore reject the null hypothesis: the mean arrests of Hispanics before July 2013 is therefore significantly different from the mean arrests of Hispanics after July 2013."
   ]
  },
  {
   "cell_type": "markdown",
   "metadata": {},
   "source": [
    "#### 2.2.2. Regression analysis visualisation"
   ]
  },
  {
   "cell_type": "code",
   "execution_count": null,
   "metadata": {},
   "outputs": [],
   "source": [
    "hispanic_trends_before = hispanic_before_movement.set_index('Date') \\\n",
    "                        .replace('H', 1) \\\n",
    "                        .rename(columns = {'Race' : 'Arrestations'}) \\\n",
    "                        .groupby(pd.Grouper(freq = 'M')).sum() \\\n",
    "                        .assign(Period = 'Before')\n",
    "\n",
    "hispanic_trends_after = hispanic_after_movement.set_index('Date') \\\n",
    "                        .replace('H', 1) \\\n",
    "                        .rename(columns = {'Race' : 'Arrestations'}) \\\n",
    "                        .groupby(pd.Grouper(freq = 'M')).sum() \\\n",
    "                        .assign(Period = 'After')\n",
    "\n",
    "hispanic_trends = pd.concat([hispanic_trends_before, hispanic_trends_after]).reset_index(drop = True)\n",
    "hispanic_trends['Time'] = hispanic_trends.index + 1"
   ]
  },
  {
   "cell_type": "code",
   "execution_count": null,
   "metadata": {},
   "outputs": [],
   "source": [
    "h_w_trends = black_trends.copy()\n",
    "h_w_trends = h_w_trends.append(hispanic_trends)\n",
    "h_w_trends.reset_index(inplace = True)\n",
    "\n",
    "#Defining the labels\n",
    "h_w_trends['Label'] = h_w_trends.index.values\n",
    "h_w_trends['Label'] = h_w_trends['Label'].apply(label_values)"
   ]
  },
  {
   "cell_type": "code",
   "execution_count": null,
   "metadata": {},
   "outputs": [],
   "source": [
    "plot_control_regression(h_w_trends, 'Hispanic')"
   ]
  },
  {
   "cell_type": "markdown",
   "metadata": {},
   "source": [
    "Once can observe that the trend of the arrests of Hispanic people is quite similar before and after July 2013. Let's investigate further this observation with numerical data."
   ]
  },
  {
   "cell_type": "markdown",
   "metadata": {},
   "source": [
    "#### 2.2.3. Numerical Segmented regression"
   ]
  },
  {
   "cell_type": "code",
   "execution_count": null,
   "metadata": {},
   "outputs": [],
   "source": [
    "segmented_regression(hispanic_trends)"
   ]
  },
  {
   "cell_type": "markdown",
   "metadata": {},
   "source": [
    "When analyzing this regression table, one can observe that only the p-value of the varialbe `time` is smaller than 0.05. The p-value for the variable `intervention` is at 0.487, suggesting that the intervention has not a significant effect. Moreover, we can observe that the coefficient $\\beta_1$ (corresponding to the trend of arrests of Hispanic before the intervention) and the coefficient $\\beta_3$ (corresponding to the trend after the intervention) are quite similar (respectively -18.2640 and -17.8791). These results supports our graphical observations: the intervention does not impact the evolution of arrests of Hispanics.\n"
   ]
  },
  {
   "cell_type": "markdown",
   "metadata": {},
   "source": [
    "### 2.2 Control group with both Whites and Hispanics"
   ]
  },
  {
   "cell_type": "code",
   "execution_count": null,
   "metadata": {},
   "outputs": [],
   "source": []
  },
  {
   "cell_type": "markdown",
   "metadata": {},
   "source": [
    "---"
   ]
  },
  {
   "cell_type": "markdown",
   "metadata": {},
   "source": [
    "## Question 3\n",
    "### _Is there a difference in the number of arrestations between males and females African Americans ? What about after the Black Lives Matter movement ?_"
   ]
  },
  {
   "cell_type": "markdown",
   "metadata": {},
   "source": [
    "### 3.1. Comparisons of number of arrests"
   ]
  },
  {
   "cell_type": "markdown",
   "metadata": {},
   "source": [
    "As a first insight, we compare the number of arrests of back men with the number of arrests of black women."
   ]
  },
  {
   "cell_type": "code",
   "execution_count": null,
   "metadata": {},
   "outputs": [],
   "source": [
    "gender_black_data = arrest_data[arrest_data['Race'] == 'B'][['Date', 'Gender']].reset_index(drop = True)\n",
    "\n",
    "fig = plt.figure(figsize=(6,6))\n",
    "ax = plot = sns.countplot(x='Gender', data=gender_black_data, palette = 'bright')\n",
    "plt.title(\"Number of Arrests of African American people w.r.t gender (Jan 2010 - Jun 2019)\", pad = 20)\n",
    "plt.ylabel('Number of Arrests', labelpad = 20)\n",
    "plt.xlabel('Gender', labelpad = 20)\n",
    "plt.show()"
   ]
  },
  {
   "cell_type": "markdown",
   "metadata": {},
   "source": [
    "This shows us how men and women are not equal here. (peut être calculer un ratio ?)\n",
    "\n",
    "We now want to look at the evolution of the number of arrests for both sex separetely. "
   ]
  },
  {
   "cell_type": "code",
   "execution_count": null,
   "metadata": {},
   "outputs": [],
   "source": [
    "gender_black_data['Period'] = gender_black_data['Date'].apply(lambda x: 'Before' if x <= movement_creation_date else 'After')\n",
    "gender_black_data = gender_black_data[gender_black_data['Date'] <= datetime.datetime(2016,12,31)].reset_index(drop = True).sort_values(by='Date')\n",
    "\n",
    "fig = plt.figure(figsize=(6,6))\n",
    "ax = plot = sns.countplot(x='Gender', hue = 'Period',data=gender_black_data, palette = 'muted')\n",
    "plt.title(\"Number of Arrests of African American people w.r.t gender (Jan 2010 - Jun 2019)\", pad = 20)\n",
    "plt.ylabel('Number of Arrests', labelpad = 20)\n",
    "plt.xlabel('Gender', labelpad = 20)\n",
    "plt.show()"
   ]
  },
  {
   "cell_type": "markdown",
   "metadata": {},
   "source": [
    "### TO ADD: ratio before and after"
   ]
  },
  {
   "cell_type": "markdown",
   "metadata": {},
   "source": [
    "### 3.2. Segmented regression analysis"
   ]
  },
  {
   "cell_type": "markdown",
   "metadata": {},
   "source": [
    "We perform a segmented regression analysis for both sex separately to observe if the changes in trends are observable for men and women identically or if there are divergences."
   ]
  },
  {
   "cell_type": "markdown",
   "metadata": {},
   "source": [
    "#### 3.2.1. Regression analysis visualisation"
   ]
  },
  {
   "cell_type": "code",
   "execution_count": null,
   "metadata": {},
   "outputs": [],
   "source": [
    "female_black_data = gender_black_data[gender_black_data['Gender'] == 'F'] \\\n",
    "                    .set_index('Date') \\\n",
    "                    .replace('F', 1) \\\n",
    "                    .rename(columns = {'Gender' : 'Arrestations'}) \\\n",
    "                    .groupby(pd.Grouper(freq = 'M')).sum() \\\n",
    "                    .reset_index() \\\n",
    "                    .sort_values(by = 'Date')\n",
    "\n",
    "female_black_data_before = female_black_data[female_black_data['Date'] < datetime.datetime(2013, 8, 1)] \\\n",
    "                            .assign(Period = 'Before Female') \\\n",
    "                            .assign(Time = lambda x : x.index + 1)\n",
    "\n",
    "female_black_data_after = female_black_data[female_black_data['Date'] >= datetime.datetime(2013, 8, 1)] \\\n",
    "                            .assign(Period = 'After Female') \\\n",
    "                            .assign(Time = lambda x : x.index + 1)\n",
    "\n",
    "\n",
    "male_black_data = gender_black_data[gender_black_data['Gender'] == 'M'] \\\n",
    "                    .set_index('Date') \\\n",
    "                    .replace('M', 1) \\\n",
    "                    .rename(columns = {'Gender' : 'Arrestations'}) \\\n",
    "                    .groupby(pd.Grouper(freq = 'M')).sum() \\\n",
    "                    .reset_index() \\\n",
    "                    .sort_values(by = 'Date')\n",
    "\n",
    "male_black_data_before = male_black_data[male_black_data['Date'] < datetime.datetime(2013, 8, 1)] \\\n",
    "                            .assign(Period = 'Before Male') \\\n",
    "                            .assign(Time = lambda x : x.index + 1)\n",
    "\n",
    "male_black_data_after = male_black_data[male_black_data['Date'] >= datetime.datetime(2013, 8, 1)] \\\n",
    "                            .assign(Period = 'After Male') \\\n",
    "                            .assign(Time = lambda x : x.index + 1)"
   ]
  },
  {
   "cell_type": "code",
   "execution_count": null,
   "metadata": {},
   "outputs": [],
   "source": [
    "ax = sns.lmplot(x=\"Time\", y=\"Arrestations\", hue = \"Period\", data=pd.concat([male_black_data_before, female_black_data_before, male_black_data_after, female_black_data_after]),\n",
    "                ci=95, palette=\"bright\", height = 12)\n",
    "\n",
    "plt.subplots_adjust(top=0.9)\n",
    "ax._legend.remove()\n",
    "ax.fig.suptitle('Pre and Post July 2013 Arrestations Trends of African American people', fontsize = 14)\n",
    "ax.set_axis_labels(\"Time (Months)\", \"Total Arrestations\", fontsize = 13, labelpad = 10)\n",
    "plt.axvline(x = 43.5, color = 'red', alpha = 2, linestyle = '--')\n",
    "plt.xlim(0, 86)\n",
    "plt.ylim(500, None)\n",
    "ax.set(xticks = range(0, 92, 4))\n",
    "\n",
    "plt.legend()\n",
    "\n",
    "\n",
    "plt.show()"
   ]
  },
  {
   "cell_type": "markdown",
   "metadata": {},
   "source": [
    "### TO ADD: conclusion"
   ]
  },
  {
   "cell_type": "markdown",
   "metadata": {},
   "source": [
    "#### 3.2.2. Numerical Segmented regression"
   ]
  },
  {
   "cell_type": "markdown",
   "metadata": {},
   "source": [
    "_Male Segmented regression_"
   ]
  },
  {
   "cell_type": "code",
   "execution_count": null,
   "metadata": {},
   "outputs": [],
   "source": [
    "male_trends = pd.concat([male_black_data_before, male_black_data_after])\n",
    "male_trends['x2'] = male_trends.Period.apply(lambda x : 0 if x=='Before Male' else 1)\n",
    "male_trends['x3'] = male_trends.Time.apply(lambda x: x-43 if x>43 else 0)\n",
    "y_df = male_trends['Arrestations']\n",
    "male_trends = male_trends.drop(columns = ['Date', 'Period', 'Arrestations']).rename(columns = {'Time':'x1'})"
   ]
  },
  {
   "cell_type": "code",
   "execution_count": null,
   "metadata": {},
   "outputs": [],
   "source": [
    "X_df = male_trends\n",
    "X_df = sm.add_constant(X_df.values)\n",
    "model = sm.OLS(y_df, X_df).fit()\n",
    "model.summary()"
   ]
  },
  {
   "cell_type": "markdown",
   "metadata": {},
   "source": [
    "### TO ADD: conclusion"
   ]
  },
  {
   "cell_type": "markdown",
   "metadata": {},
   "source": [
    "_Female Segmented regression_"
   ]
  },
  {
   "cell_type": "code",
   "execution_count": null,
   "metadata": {},
   "outputs": [],
   "source": [
    "female_trends = pd.concat([female_black_data_before, female_black_data_after])\n",
    "female_trends['x2'] = female_trends.Period.apply(lambda x : 0 if x=='Before Female' else 1)\n",
    "female_trends['x3'] = female_trends.Time.apply(lambda x: x-43 if x>43 else 0)\n",
    "y_df = female_trends['Arrestations']\n",
    "female_trends = female_trends.drop(columns = ['Date', 'Period', 'Arrestations']).rename(columns = {'Time':'x1'})"
   ]
  },
  {
   "cell_type": "code",
   "execution_count": null,
   "metadata": {},
   "outputs": [],
   "source": [
    "X_df = female_trends\n",
    "X_df = sm.add_constant(X_df.values)\n",
    "model = sm.OLS(y_df, X_df).fit()\n",
    "model.summary()"
   ]
  },
  {
   "cell_type": "markdown",
   "metadata": {},
   "source": [
    "### TO ADD: conclusion"
   ]
  },
  {
   "cell_type": "markdown",
   "metadata": {},
   "source": [
    "---"
   ]
  },
  {
   "cell_type": "markdown",
   "metadata": {},
   "source": [
    "## Conclusion"
   ]
  },
  {
   "cell_type": "markdown",
   "metadata": {},
   "source": [
    "### TO ADD"
   ]
  },
  {
   "cell_type": "code",
   "execution_count": null,
   "metadata": {},
   "outputs": [],
   "source": []
  }
 ],
 "metadata": {
  "kernelspec": {
   "display_name": "Python 3",
   "language": "python",
   "name": "python3"
  },
  "language_info": {
   "codemirror_mode": {
    "name": "ipython",
    "version": 3
   },
   "file_extension": ".py",
   "mimetype": "text/x-python",
   "name": "python",
   "nbconvert_exporter": "python",
   "pygments_lexer": "ipython3",
   "version": "3.7.9"
  }
 },
 "nbformat": 4,
 "nbformat_minor": 2
}
